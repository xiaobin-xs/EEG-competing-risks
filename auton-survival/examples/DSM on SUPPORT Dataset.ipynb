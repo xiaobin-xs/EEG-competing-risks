{
 "cells": [
  {
   "cell_type": "markdown",
   "metadata": {},
   "source": [
    "# DSM on SUPPORT Dataset"
   ]
  },
  {
   "cell_type": "markdown",
   "metadata": {},
   "source": [
    "The SUPPORT dataset comes from the Vanderbilt University study\n",
    "to estimate survival for seriously ill hospitalized adults.\n",
    "(Refer to http://biostat.mc.vanderbilt.edu/wiki/Main/SupportDesc.\n",
    "for the original datasource.)\n",
    "\n",
    "In this notebook, we will apply Deep Survival Machines for survival prediction on the SUPPORT data."
   ]
  },
  {
   "cell_type": "markdown",
   "metadata": {},
   "source": [
    "### Load the SUPPORT Dataset\n",
    "\n",
    "The package includes helper functions to load the dataset.\n",
    "\n",
    "X represents an np.array of features (covariates),\n",
    "T is the event/censoring times and,\n",
    "E is the censoring indicator."
   ]
  },
  {
   "cell_type": "code",
   "execution_count": 1,
   "metadata": {
    "execution": {
     "iopub.execute_input": "2023-04-18T00:33:54.382052Z",
     "iopub.status.busy": "2023-04-18T00:33:54.381493Z",
     "iopub.status.idle": "2023-04-18T00:34:05.526809Z",
     "shell.execute_reply": "2023-04-18T00:34:05.525684Z",
     "shell.execute_reply.started": "2023-04-18T00:33:54.382011Z"
    },
    "tags": []
   },
   "outputs": [],
   "source": [
    "import sys\n",
    "\n",
    "sys.path.append('../')\n",
    "from auton_survival import datasets\n",
    "outcomes, features = datasets.load_support()"
   ]
  },
  {
   "cell_type": "code",
   "execution_count": 2,
   "metadata": {
    "execution": {
     "iopub.execute_input": "2023-04-18T00:34:20.602130Z",
     "iopub.status.busy": "2023-04-18T00:34:20.601285Z",
     "iopub.status.idle": "2023-04-18T00:34:20.767491Z",
     "shell.execute_reply": "2023-04-18T00:34:20.766497Z",
     "shell.execute_reply.started": "2023-04-18T00:34:20.602088Z"
    },
    "tags": []
   },
   "outputs": [],
   "source": [
    "from auton_survival.preprocessing import Preprocessor\n",
    "cat_feats = ['sex', 'dzgroup', 'dzclass', 'income', 'race', 'ca']\n",
    "num_feats = ['age', 'num.co', 'meanbp', 'wblc', 'hrt', 'resp', \n",
    "\t     'temp', 'pafi', 'alb', 'bili', 'crea', 'sod', 'ph', \n",
    "             'glucose', 'bun', 'urine', 'adlp', 'adls']\n",
    "\n",
    "features = Preprocessor().fit_transform(features, cat_feats=cat_feats, num_feats=num_feats)"
   ]
  },
  {
   "cell_type": "markdown",
   "metadata": {},
   "source": [
    "### Compute horizons at which we evaluate the performance of DSM\n",
    "\n",
    "Survival predictions are issued at certain time horizons. Here we will evaluate the performance\n",
    "of DSM to issue predictions at the 25th, 50th and 75th event time quantile as is standard practice in Survival Analysis."
   ]
  },
  {
   "cell_type": "code",
   "execution_count": 3,
   "metadata": {
    "execution": {
     "iopub.execute_input": "2023-04-18T00:34:22.942276Z",
     "iopub.status.busy": "2023-04-18T00:34:22.941645Z",
     "iopub.status.idle": "2023-04-18T00:34:22.977491Z",
     "shell.execute_reply": "2023-04-18T00:34:22.976550Z",
     "shell.execute_reply.started": "2023-04-18T00:34:22.942239Z"
    },
    "tags": []
   },
   "outputs": [],
   "source": [
    "import numpy as np\n",
    "horizons = [0.25, 0.5, 0.75]\n",
    "times = np.quantile(outcomes.time[outcomes.event==1], horizons).tolist()"
   ]
  },
  {
   "cell_type": "markdown",
   "metadata": {},
   "source": [
    "### Splitting the data into train, test and validation sets\n",
    "\n",
    "We will train DSM on 70% of the Data, use a Validation set of 10% for Model Selection and report performance on the remaining 20% held out test set."
   ]
  },
  {
   "cell_type": "code",
   "execution_count": 4,
   "metadata": {
    "execution": {
     "iopub.execute_input": "2023-04-18T00:34:26.684832Z",
     "iopub.status.busy": "2023-04-18T00:34:26.684148Z",
     "iopub.status.idle": "2023-04-18T00:34:26.693730Z",
     "shell.execute_reply": "2023-04-18T00:34:26.692695Z",
     "shell.execute_reply.started": "2023-04-18T00:34:26.684792Z"
    },
    "tags": []
   },
   "outputs": [],
   "source": [
    "x, t, e = features.values, outcomes.time.values, outcomes.event.values\n",
    "\n",
    "n = len(x)\n",
    "\n",
    "tr_size = int(n*0.70)\n",
    "vl_size = int(n*0.10)\n",
    "te_size = int(n*0.20)\n",
    "\n",
    "x_train, x_test, x_val = x[:tr_size], x[-te_size:], x[tr_size:tr_size+vl_size]\n",
    "t_train, t_test, t_val = t[:tr_size], t[-te_size:], t[tr_size:tr_size+vl_size]\n",
    "e_train, e_test, e_val = e[:tr_size], e[-te_size:], e[tr_size:tr_size+vl_size]"
   ]
  },
  {
   "cell_type": "markdown",
   "metadata": {},
   "source": [
    "### Setting the parameter grid\n",
    "\n",
    "Lets set up the parameter grid to tune hyper-parameters. We will tune the number of underlying survival distributions, \n",
    "($K$), the distribution choices (Log-Normal or Weibull), the learning rate for the Adam optimizer between $1\\times10^{-3}$ and $1\\times10^{-4}$ and the number of hidden layers between $0, 1$ and $2$."
   ]
  },
  {
   "cell_type": "code",
   "execution_count": 5,
   "metadata": {
    "execution": {
     "iopub.execute_input": "2023-04-18T00:34:29.068698Z",
     "iopub.status.busy": "2023-04-18T00:34:29.068035Z",
     "iopub.status.idle": "2023-04-18T00:34:29.072476Z",
     "shell.execute_reply": "2023-04-18T00:34:29.071647Z",
     "shell.execute_reply.started": "2023-04-18T00:34:29.068661Z"
    },
    "tags": []
   },
   "outputs": [],
   "source": [
    "from sklearn.model_selection import ParameterGrid"
   ]
  },
  {
   "cell_type": "code",
   "execution_count": 6,
   "metadata": {
    "execution": {
     "iopub.execute_input": "2023-04-18T00:34:29.660135Z",
     "iopub.status.busy": "2023-04-18T00:34:29.659441Z",
     "iopub.status.idle": "2023-04-18T00:34:29.665168Z",
     "shell.execute_reply": "2023-04-18T00:34:29.664088Z",
     "shell.execute_reply.started": "2023-04-18T00:34:29.660096Z"
    },
    "tags": []
   },
   "outputs": [],
   "source": [
    "param_grid = {'k' : [3, 4, 6],\n",
    "              'distribution' : ['LogNormal', 'Weibull'],\n",
    "              'learning_rate' : [ 1e-4, 1e-3],\n",
    "              'layers' : [ [], [100], [100, 100] ]\n",
    "             }\n",
    "params = ParameterGrid(param_grid)"
   ]
  },
  {
   "cell_type": "markdown",
   "metadata": {},
   "source": [
    "### Model Training and Selection"
   ]
  },
  {
   "cell_type": "code",
   "execution_count": 7,
   "metadata": {
    "execution": {
     "iopub.execute_input": "2023-04-18T00:34:32.534872Z",
     "iopub.status.busy": "2023-04-18T00:34:32.534139Z",
     "iopub.status.idle": "2023-04-18T00:34:32.539068Z",
     "shell.execute_reply": "2023-04-18T00:34:32.538047Z",
     "shell.execute_reply.started": "2023-04-18T00:34:32.534830Z"
    },
    "tags": []
   },
   "outputs": [],
   "source": [
    "from auton_survival.models.dsm import DeepSurvivalMachines\n"
   ]
  },
  {
   "cell_type": "code",
   "execution_count": 11,
   "metadata": {
    "execution": {
     "iopub.execute_input": "2023-04-18T00:36:32.136588Z",
     "iopub.status.busy": "2023-04-18T00:36:32.135919Z",
     "iopub.status.idle": "2023-04-18T00:37:22.785615Z",
     "shell.execute_reply": "2023-04-18T00:37:22.784528Z",
     "shell.execute_reply.started": "2023-04-18T00:36:32.136551Z"
    },
    "scrolled": true,
    "tags": []
   },
   "outputs": [
    {
     "name": "stderr",
     "output_type": "stream",
     "text": [
      " 12%|█████▋                                          | 1190/10000 [00:23<02:54, 50.51it/s]\n",
      "100%|███████████████████████████████████████████████████| 100/100 [00:26<00:00,  3.74it/s]\n"
     ]
    }
   ],
   "source": [
    "models = []\n",
    "for param in params:\n",
    "    model = DeepSurvivalMachines(k = param['k'],\n",
    "                                 distribution = param['distribution'],\n",
    "                                 layers = param['layers'])\n",
    "    # The fit method is called to train the model\n",
    "    model.fit(x_train, t_train, e_train, iters = 100, learning_rate = param['learning_rate'])\n",
    "    models.append([[model.compute_nll(x_val, t_val, e_val), model]])\n",
    "    break\n",
    "best_model = min(models)\n",
    "model = best_model[0][1]"
   ]
  },
  {
   "cell_type": "code",
   "execution_count": 12,
   "metadata": {
    "execution": {
     "iopub.execute_input": "2023-04-18T00:37:24.705140Z",
     "iopub.status.busy": "2023-04-18T00:37:24.704471Z",
     "iopub.status.idle": "2023-04-18T00:37:24.717124Z",
     "shell.execute_reply": "2023-04-18T00:37:24.716301Z",
     "shell.execute_reply.started": "2023-04-18T00:37:24.705100Z"
    },
    "tags": []
   },
   "outputs": [
    {
     "data": {
      "text/plain": [
       "DeepSurvivalMachinesTorch(\n",
       "  (act): Tanh()\n",
       "  (shape): ParameterDict(  (1): Parameter containing: [torch.DoubleTensor of size 3])\n",
       "  (scale): ParameterDict(  (1): Parameter containing: [torch.DoubleTensor of size 3])\n",
       "  (gate): ModuleDict(\n",
       "    (1): Sequential(\n",
       "      (0): Linear(in_features=38, out_features=3, bias=False)\n",
       "    )\n",
       "  )\n",
       "  (scaleg): ModuleDict(\n",
       "    (1): Sequential(\n",
       "      (0): Linear(in_features=38, out_features=3, bias=True)\n",
       "    )\n",
       "  )\n",
       "  (shapeg): ModuleDict(\n",
       "    (1): Sequential(\n",
       "      (0): Linear(in_features=38, out_features=3, bias=True)\n",
       "    )\n",
       "  )\n",
       "  (embedding): Sequential()\n",
       ")"
      ]
     },
     "execution_count": 12,
     "metadata": {},
     "output_type": "execute_result"
    }
   ],
   "source": [
    "model.torch_model "
   ]
  },
  {
   "cell_type": "markdown",
   "metadata": {},
   "source": [
    "### Inference"
   ]
  },
  {
   "cell_type": "code",
   "execution_count": 35,
   "metadata": {},
   "outputs": [],
   "source": [
    "out_risk = model.predict_risk(x_test, times)\n",
    "out_survival = model.predict_survival(x_test, times)"
   ]
  },
  {
   "cell_type": "markdown",
   "metadata": {},
   "source": [
    "### Evaluation\n",
    "\n",
    "We evaluate the performance of DSM in its discriminative ability (Time Dependent Concordance Index and Cumulative Dynamic AUC) as well as Brier Score."
   ]
  },
  {
   "cell_type": "code",
   "execution_count": 36,
   "metadata": {},
   "outputs": [],
   "source": [
    "from sksurv.metrics import concordance_index_ipcw, brier_score, cumulative_dynamic_auc"
   ]
  },
  {
   "cell_type": "code",
   "execution_count": 37,
   "metadata": {},
   "outputs": [
    {
     "name": "stdout",
     "output_type": "stream",
     "text": [
      "For 0.25 quantile,\n",
      "TD Concordance Index: 0.7758488928305234\n",
      "Brier Score: 0.10949921706762251\n",
      "ROC AUC  0.7840977530125496 \n",
      "\n",
      "For 0.5 quantile,\n",
      "TD Concordance Index: 0.7084956219062457\n",
      "Brier Score: 0.18207491533147557\n",
      "ROC AUC  0.7298316693618319 \n",
      "\n",
      "For 0.75 quantile,\n",
      "TD Concordance Index: 0.656044903399766\n",
      "Brier Score: 0.22306554875644452\n",
      "ROC AUC  0.7097073968619374 \n",
      "\n"
     ]
    }
   ],
   "source": [
    "cis = []\n",
    "brs = []\n",
    "\n",
    "et_train = np.array([(e_train[i], t_train[i]) for i in range(len(e_train))],\n",
    "                 dtype = [('e', bool), ('t', float)])\n",
    "et_test = np.array([(e_test[i], t_test[i]) for i in range(len(e_test))],\n",
    "                 dtype = [('e', bool), ('t', float)])\n",
    "et_val = np.array([(e_val[i], t_val[i]) for i in range(len(e_val))],\n",
    "                 dtype = [('e', bool), ('t', float)])\n",
    "\n",
    "for i, _ in enumerate(times):\n",
    "    cis.append(concordance_index_ipcw(et_train, et_test, out_risk[:, i], times[i])[0])\n",
    "brs.append(brier_score(et_train, et_test, out_survival, times)[1])\n",
    "roc_auc = []\n",
    "for i, _ in enumerate(times):\n",
    "    roc_auc.append(cumulative_dynamic_auc(et_train, et_test, out_risk[:, i], times[i])[0])\n",
    "for horizon in enumerate(horizons):\n",
    "    print(f\"For {horizon[1]} quantile,\")\n",
    "    print(\"TD Concordance Index:\", cis[horizon[0]])\n",
    "    print(\"Brier Score:\", brs[0][horizon[0]])\n",
    "    print(\"ROC AUC \", roc_auc[horizon[0]][0], \"\\n\")"
   ]
  },
  {
   "cell_type": "code",
   "execution_count": null,
   "metadata": {},
   "outputs": [],
   "source": []
  }
 ],
 "metadata": {
  "kernelspec": {
   "display_name": "Python 3 (ipykernel)",
   "language": "python",
   "name": "python3"
  },
  "language_info": {
   "codemirror_mode": {
    "name": "ipython",
    "version": 3
   },
   "file_extension": ".py",
   "mimetype": "text/x-python",
   "name": "python",
   "nbconvert_exporter": "python",
   "pygments_lexer": "ipython3",
   "version": "3.9.7"
  }
 },
 "nbformat": 4,
 "nbformat_minor": 4
}
