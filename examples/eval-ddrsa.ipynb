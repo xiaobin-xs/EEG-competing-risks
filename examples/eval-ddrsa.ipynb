{
 "cells": [
  {
   "cell_type": "code",
   "execution_count": 1,
   "id": "b80ff03c",
   "metadata": {
    "ExecuteTime": {
     "end_time": "2023-03-01T22:03:15.817497Z",
     "start_time": "2023-03-01T22:03:15.800683Z"
    },
    "execution": {
     "iopub.execute_input": "2023-04-24T07:24:05.790521Z",
     "iopub.status.busy": "2023-04-24T07:24:05.790293Z",
     "iopub.status.idle": "2023-04-24T07:24:05.797287Z",
     "shell.execute_reply": "2023-04-24T07:24:05.796630Z",
     "shell.execute_reply.started": "2023-04-24T07:24:05.790500Z"
    },
    "tags": []
   },
   "outputs": [],
   "source": [
    "SEED = 1234\n",
    "_EPSILON = 1e-08"
   ]
  },
  {
   "cell_type": "code",
   "execution_count": 2,
   "id": "acc16d0a",
   "metadata": {
    "ExecuteTime": {
     "end_time": "2023-03-02T16:00:14.081365Z",
     "start_time": "2023-03-02T16:00:13.647673Z"
    },
    "execution": {
     "iopub.execute_input": "2023-04-24T07:24:06.673040Z",
     "iopub.status.busy": "2023-04-24T07:24:06.672807Z",
     "iopub.status.idle": "2023-04-24T07:24:09.694066Z",
     "shell.execute_reply": "2023-04-24T07:24:09.693270Z",
     "shell.execute_reply.started": "2023-04-24T07:24:06.673019Z"
    },
    "tags": []
   },
   "outputs": [],
   "source": [
    "import sys\n",
    "sys.path.append('../scr/')\n",
    "\n",
    "import pandas as pd\n",
    "import numpy as np\n",
    "import torch.nn as nn\n",
    "import torch\n",
    "from torch.utils.data import DataLoader\n",
    "import torch.nn.functional as F\n",
    "import os\n",
    "from sklearn.model_selection import train_test_split\n",
    "from tqdm import tqdm\n",
    "from torch.utils.tensorboard import SummaryWriter\n",
    "import datetime\n",
    "\n",
    "from ddrsa import DDRSA\n",
    "import import_data as impt\n",
    "from utils_eval import c_index, brier_score\n",
    "from utils_helper import f_get_boosted_trainset\n",
    "from utils_helper import f_get_risk_predictions, _f_get_pred\n",
    "from utils_helper import save_checkpoint, load_checkpoint"
   ]
  },
  {
   "cell_type": "code",
   "execution_count": 3,
   "id": "b52a0d6c",
   "metadata": {
    "ExecuteTime": {
     "end_time": "2023-03-02T01:52:48.981491Z",
     "start_time": "2023-03-02T01:52:48.954519Z"
    },
    "execution": {
     "iopub.execute_input": "2023-04-24T07:24:09.695548Z",
     "iopub.status.busy": "2023-04-24T07:24:09.695189Z",
     "iopub.status.idle": "2023-04-24T07:24:09.700683Z",
     "shell.execute_reply": "2023-04-24T07:24:09.700123Z",
     "shell.execute_reply.started": "2023-04-24T07:24:09.695523Z"
    },
    "tags": []
   },
   "outputs": [],
   "source": [
    "## for reproducibility\n",
    "torch.manual_seed(SEED)\n",
    "torch.backends.cudnn.deterministic = True\n",
    "torch.backends.cudnn.benchmark = False\n",
    "np.random.seed(SEED)"
   ]
  },
  {
   "cell_type": "markdown",
   "id": "1d41c04f-c0fc-403c-95a0-c43684e36c93",
   "metadata": {
    "tags": []
   },
   "source": [
    "# Part I: Load the model"
   ]
  },
  {
   "cell_type": "markdown",
   "id": "1c3cde6d",
   "metadata": {
    "tags": []
   },
   "source": [
    "### Import Dataset"
   ]
  },
  {
   "cell_type": "markdown",
   "id": "5f68d319",
   "metadata": {},
   "source": [
    "### load EEG for testing set 1234\n",
    "load data with high-resolution EEG data (better for visualization)"
   ]
  },
  {
   "cell_type": "code",
   "execution_count": null,
   "id": "a2a00f2a",
   "metadata": {},
   "outputs": [],
   "source": [
    "## if the combined data with high resolution EEG is already saved as a file, \n",
    "## load the test data from a saved file\n",
    "## if not, run the follow two cells\n",
    "import pickle\n",
    "with open('high_res_combined_data_test.pickle', 'rb') as handle:\n",
    "    te_all_eeg = pickle.load(handle)"
   ]
  },
  {
   "cell_type": "code",
   "execution_count": null,
   "id": "da06e1da",
   "metadata": {},
   "outputs": [
    {
     "name": "stderr",
     "output_type": "stream",
     "text": [
      "100%|███████████████████████████████████████████████████| 185/185 [13:01<00:00,  4.22s/it]\n"
     ]
    }
   ],
   "source": [
    "## load the test data from raw\n",
    "## else, skip the following two cells\n",
    "import glob\n",
    "from tqdm import tqdm\n",
    "import math\n",
    "\n",
    "## testing patient list with random seed of 1234\n",
    "te_id_1234 = \\\n",
    "    ['PUH-2019-032', 'PUH-2011-125', 'PUH-2014-216', 'PUH-2014-187', 'PUH-2017-229', 'PUH-2018-046', 'PUH-2013-069', 'PUH-2018-164', 'PUH-2012-210', 'PUH-2015-122', 'PUH-2014-150', 'PUH-2011-163', 'PUH-2015-136', 'PUH-2016-092', 'PUH-2017-027', 'PUH-2013-140', 'PUH-2018-054', 'PUH-2014-174', 'PUH-2019-022', 'PUH-2019-037', 'PUH-2016-048', 'PUH-2014-130', 'PUH-2016-181', 'PUH-2012-158', 'PUH-2010-205', 'PUH-2015-095', 'PUH-2013-194', 'PUH-2011-166', 'PUH-2012-186', 'PUH-2014-211', 'PUH-2011-017', 'PUH-2016-175', 'PUH-2015-270', 'PUH-2013-063', 'PUH-2016-277', 'PUH-2017-296', 'PUH-2019-108', 'PUH-2016-313', 'PUH-2017-098', 'PUH-2011-089', 'PUH-2017-077', 'PUH-2011-071', 'PUH-2016-142', 'PUH-2017-057', 'PUH-2013-165', 'PUH-2016-304', 'PUH-2013-002', 'PUH-2011-154', 'PUH-2013-059', 'PUH-2018-302', 'PUH-2016-080', 'PUH-2018-042', 'PUH-2011-120', 'PUH-2018-167', 'PUH-2017-294', 'PUH-2016-246', 'PUH-2019-124', 'PUH-2016-100', 'PUH-2014-079', 'PUH-2015-293', 'PUH-2011-152', 'PUH-2016-027', 'PUH-2017-181', 'PUH-2012-043', 'PUH-2010-181', 'PUH-2016-257', 'PUH-2010-165', 'PUH-2011-030', 'PUH-2014-106', 'PUH-2012-095', 'PUH-2012-214', 'PUH-2016-242', 'PUH-2012-223', 'PUH-2011-111', 'PUH-2014-060', 'PUH-2013-032', 'PUH-2015-264', 'PUH-2015-207', 'PUH-2017-292', 'PUH-2015-051', 'PUH-2010-140', 'PUH-2014-088', 'PUH-2013-172', 'PUH-2016-324', 'PUH-2015-258', 'PUH-2014-253', 'PUH-2015-295', 'PUH-2017-044', 'PUH-2016-203', 'PUH-2015-019', 'PUH-2017-096', 'PUH-2016-052', 'PUH-2012-083', 'PUH-2018-078', 'PUH-2016-084', 'PUH-2012-032', 'PUH-2013-099', 'PUH-2016-329', 'PUH-2014-249', 'PUH-2010-207', 'PUH-2012-066', 'PUH-2013-061', 'PUH-2012-197', 'PUH-2019-091', 'PUH-2011-075', 'PUH-2017-138', 'PUH-2017-093', 'PUH-2013-166', 'PUH-2010-208', 'PUH-2010-169', 'PUH-2013-208', 'PUH-2015-124', 'PUH-2013-034', 'PUH-2019-059', 'PUH-2015-244', 'PUH-2014-251', 'PUH-2014-227', 'PUH-2013-183', 'PUH-2015-086', 'PUH-2012-188', 'PUH-2017-021', 'PUH-2015-044', 'PUH-2012-183', 'PUH-2015-080', 'PUH-2010-158', 'PUH-2017-011', 'PUH-2013-199', 'PUH-2015-030', 'PUH-2014-093', 'PUH-2010-180', 'PUH-2013-021', 'PUH-2014-241', 'PUH-2016-025', 'PUH-2014-248', 'PUH-2010-150', 'PUH-2010-177', 'PUH-2014-168', 'PUH-2014-184', 'PUH-2018-131', 'PUH-2018-322', 'PUH-2017-213', 'PUH-2015-009', 'PUH-2018-117', 'PUH-2015-282', 'PUH-2013-177', 'PUH-2013-142', 'PUH-2018-245', 'PUH-2016-297', 'PUH-2010-076', 'PUH-2011-139', 'PUH-2014-021', 'PUH-2018-126', 'PUH-2019-040', 'PUH-2013-111', 'PUH-2016-147', 'PUH-2013-019', 'PUH-2013-001', 'PUH-2017-278', 'PUH-2016-248', 'PUH-2014-236', 'PUH-2017-087', 'PUH-2014-083', 'PUH-2016-135', 'PUH-2013-108', 'PUH-2016-064', 'PUH-2018-068', 'PUH-2015-074', 'PUH-2016-125', 'PUH-2010-080', 'PUH-2010-087', 'PUH-2017-008', 'PUH-2019-033', 'PUH-2016-154', 'PUH-2017-222', 'PUH-2010-163', 'PUH-2015-209', 'PUH-2017-146', 'PUH-2013-119', 'PUH-2019-010', 'PUH-2012-153', 'PUH-2015-064', 'PUH-2014-100', 'PUH-2016-087', 'PUH-2012-172', 'PUH-2015-216']\n",
    "\n",
    "save_path1 = '/heinz-georgenas/EEG/0_6hr_60_avg/'\n",
    "save_path2 = '/heinz-georgenas/EEG/6_12hr_60_avg/'\n",
    "\n",
    "saved_files2 = glob.glob(save_path2 + '*.csv')\n",
    "saved_patients2 = [file.split('/')[-1] for file in saved_files2]\n",
    "patients_with_more_than_6hr = sorted([file.split('/')[-1][:len('PUH-xxxx-xxx')] for file in saved_files2])\n",
    "\n",
    "time_to_outcome_path = '/heinz-georgenas/users/xiaobins/eeg/data/Time to outcome.csv'\n",
    "time_to_outcome = pd.read_csv(time_to_outcome_path)\n",
    "time_to_outcome.dropna(inplace=True)\n",
    "time_to_outcome['awake'] = time_to_outcome.follow_com.apply(lambda x: 1 if x=='Yes' else 0)\n",
    "\n",
    "te_all_eeg = []\n",
    "\n",
    "for patient in tqdm(te_id_1234):\n",
    "    first_6hr = pd.read_csv(save_path1+patient+'-12hours.csv', header=None)\n",
    "    if patient in patients_with_more_than_6hr:\n",
    "        after_6hr = pd.read_csv(save_path2+patient+'-12hours.csv', header=None)\n",
    "        curr_X = pd.concat([first_6hr, after_6hr], axis=0)\n",
    "        curr_X = np.array(curr_X)[:, 2550:2581]\n",
    "        curr_X = np.concatenate((curr_X[:, :2], curr_X[:, -10:]), axis=1)\n",
    "        curr_y = np.array(time_to_outcome[time_to_outcome.id==patient][['obsduration', 'awake']]).flatten()\n",
    "        time = math.floor(curr_y[0] * 60)\n",
    "        curr_X = curr_X[:time] # do NOT use EEG that are later than time-to-outcome!\n",
    "    te_all_eeg.append(curr_X)"
   ]
  },
  {
   "cell_type": "code",
   "execution_count": null,
   "id": "0137940a",
   "metadata": {},
   "outputs": [],
   "source": [
    "## when running for the first time, save the test data to a file for reuse to save time\n",
    "import pickle\n",
    "with open('high_res_combined_data_test.pickle', 'wb') as handle:\n",
    "    pickle.dump(te_all_eeg,\n",
    "                handle, protocol=pickle.HIGHEST_PROTOCOL)"
   ]
  },
  {
   "cell_type": "markdown",
   "id": "7db43f53",
   "metadata": {
    "tags": []
   },
   "source": [
    "### Set Hyper-Parameters"
   ]
  },
  {
   "cell_type": "code",
   "execution_count": 7,
   "id": "4a247a42-cf90-4385-9dc6-86833df3b279",
   "metadata": {
    "collapsed": true,
    "execution": {
     "iopub.execute_input": "2023-04-24T07:24:21.376577Z",
     "iopub.status.busy": "2023-04-24T07:24:21.376338Z",
     "iopub.status.idle": "2023-04-24T07:24:21.386375Z",
     "shell.execute_reply": "2023-04-24T07:24:21.385809Z",
     "shell.execute_reply.started": "2023-04-24T07:24:21.376556Z"
    },
    "jupyter": {
     "outputs_hidden": true
    },
    "tags": []
   },
   "outputs": [
    {
     "name": "stdout",
     "output_type": "stream",
     "text": [
      "24\n"
     ]
    },
    {
     "data": {
      "text/plain": [
       "[{'beta': 0.5, 'dropout': 0.2, 'gamma': 0.1, 'lr_train': 0.0001},\n",
       " {'beta': 0.5, 'dropout': 0.2, 'gamma': 0.1, 'lr_train': 0.0005},\n",
       " {'beta': 0.5, 'dropout': 0.2, 'gamma': 0.1, 'lr_train': 0.001},\n",
       " {'beta': 0.5, 'dropout': 0.2, 'gamma': 0.5, 'lr_train': 0.0001},\n",
       " {'beta': 0.5, 'dropout': 0.2, 'gamma': 0.5, 'lr_train': 0.0005},\n",
       " {'beta': 0.5, 'dropout': 0.2, 'gamma': 0.5, 'lr_train': 0.001},\n",
       " {'beta': 0.5, 'dropout': 0.3, 'gamma': 0.1, 'lr_train': 0.0001},\n",
       " {'beta': 0.5, 'dropout': 0.3, 'gamma': 0.1, 'lr_train': 0.0005},\n",
       " {'beta': 0.5, 'dropout': 0.3, 'gamma': 0.1, 'lr_train': 0.001},\n",
       " {'beta': 0.5, 'dropout': 0.3, 'gamma': 0.5, 'lr_train': 0.0001},\n",
       " {'beta': 0.5, 'dropout': 0.3, 'gamma': 0.5, 'lr_train': 0.0005},\n",
       " {'beta': 0.5, 'dropout': 0.3, 'gamma': 0.5, 'lr_train': 0.001},\n",
       " {'beta': 1, 'dropout': 0.2, 'gamma': 0.1, 'lr_train': 0.0001},\n",
       " {'beta': 1, 'dropout': 0.2, 'gamma': 0.1, 'lr_train': 0.0005},\n",
       " {'beta': 1, 'dropout': 0.2, 'gamma': 0.1, 'lr_train': 0.001},\n",
       " {'beta': 1, 'dropout': 0.2, 'gamma': 0.5, 'lr_train': 0.0001},\n",
       " {'beta': 1, 'dropout': 0.2, 'gamma': 0.5, 'lr_train': 0.0005},\n",
       " {'beta': 1, 'dropout': 0.2, 'gamma': 0.5, 'lr_train': 0.001},\n",
       " {'beta': 1, 'dropout': 0.3, 'gamma': 0.1, 'lr_train': 0.0001},\n",
       " {'beta': 1, 'dropout': 0.3, 'gamma': 0.1, 'lr_train': 0.0005},\n",
       " {'beta': 1, 'dropout': 0.3, 'gamma': 0.1, 'lr_train': 0.001},\n",
       " {'beta': 1, 'dropout': 0.3, 'gamma': 0.5, 'lr_train': 0.0001},\n",
       " {'beta': 1, 'dropout': 0.3, 'gamma': 0.5, 'lr_train': 0.0005},\n",
       " {'beta': 1, 'dropout': 0.3, 'gamma': 0.5, 'lr_train': 0.001}]"
      ]
     },
     "execution_count": 7,
     "metadata": {},
     "output_type": "execute_result"
    }
   ],
   "source": [
    "from sklearn.model_selection import ParameterGrid\n",
    "param_grid = {'dropout': [0.2, 0.3],#, 1e-4], \n",
    "              'lr_train': [1e-4, 5e-4, 1e-3],#, 1e-4],\n",
    "              'beta': [0.5, 1],#, 1e-3],\n",
    "              'gamma': [0.1, 0.5],\n",
    "             }\n",
    "param_grid_list = list(ParameterGrid(param_grid))\n",
    "print(len(param_grid_list))\n",
    "param_grid_list"
   ]
  },
  {
   "cell_type": "code",
   "execution_count": 8,
   "id": "3e7374c9",
   "metadata": {
    "ExecuteTime": {
     "end_time": "2023-03-03T18:15:31.543716Z",
     "start_time": "2023-03-03T18:15:31.531758Z"
    },
    "execution": {
     "iopub.execute_input": "2023-04-24T07:24:29.698710Z",
     "iopub.status.busy": "2023-04-24T07:24:29.698466Z",
     "iopub.status.idle": "2023-04-24T07:24:29.728337Z",
     "shell.execute_reply": "2023-04-24T07:24:29.727804Z",
     "shell.execute_reply.started": "2023-04-24T07:24:29.698689Z"
    },
    "tags": []
   },
   "outputs": [
    {
     "name": "stdout",
     "output_type": "stream",
     "text": [
      "cuda\n"
     ]
    }
   ],
   "source": [
    "boost_mode = 'ON' #{'ON', 'OFF'}\n",
    "\n",
    "param = {'batch_size': 32,\n",
    "\n",
    "         'num_epoch_burn_in': 20,\n",
    "         'num_epoch': 100,\n",
    "\n",
    "         'dropout': 0.2, # 1 - keep_prob\n",
    "         'lr_train': 1e-4,\n",
    "\n",
    "         'hidden_rnn': 64,\n",
    "         'hidden_dim_FC': 64,\n",
    "         'layers_rnn': 2,\n",
    "         'hidden_att': 2,\n",
    "         'hidden_cs' : 2,\n",
    "\n",
    "         'alpha' :1.0,\n",
    "         'beta'  :1,\n",
    "         'gamma' :0.1\n",
    "        }\n",
    "\n",
    "\n",
    "batch_size = param['batch_size']\n",
    "num_epoch  = param['num_epoch']\n",
    "\n",
    "dropout    = param['dropout']\n",
    "lr_train   = param['lr_train']\n",
    "\n",
    "hidden_rnn = param['hidden_rnn']\n",
    "hidden_dim_FC = param['hidden_dim_FC']\n",
    "layers_rnn = param['layers_rnn']\n",
    "hidden_att = param['hidden_att']\n",
    "hidden_cs = param['hidden_cs']\n",
    "\n",
    "alpha      = param['alpha']\n",
    "beta       = param['beta']\n",
    "gamma      = param['gamma']\n",
    "\n",
    "device     = torch.device('cuda' if torch.cuda.is_available() else 'cpu')\n",
    "print(device)"
   ]
  },
  {
   "cell_type": "markdown",
   "id": "bc506fb7",
   "metadata": {},
   "source": [
    "This implementation does not consider missing values."
   ]
  },
  {
   "cell_type": "markdown",
   "id": "60f3877b-f0d1-4ea5-b505-bb6e96d61907",
   "metadata": {},
   "source": [
    "# Part II: Error bars for CV ROC surve"
   ]
  },
  {
   "cell_type": "code",
   "execution_count": null,
   "id": "4a51ddf5-a67f-48b3-94f2-cd559496330d",
   "metadata": {},
   "outputs": [],
   "source": [
    "'ddrsa_eeg_cr3_1234_alpha1.0_beta5_gamma0.5_BSZ32_Lr0.0001_hiddenRNN64_hiddenFC64_layersRNN2_hiddenAtt2_hiddenCS2_dropout0.4_20230318_0133',\n",
    "'ddrsa_eeg_cr3_1111_alpha1.0_beta1_gamma0.1_BSZ32_Lr0.0001_hiddenRNN64_hiddenFC64_layersRNN2_hiddenAtt2_hiddenCS2_dropout0.2_20230324_0049',\n",
    "'ddrsa_eeg_cr3_2222_alpha1.0_beta1_gamma0.1_BSZ32_Lr0.0001_hiddenRNN64_hiddenFC64_layersRNN2_hiddenAtt2_hiddenCS2_dropout0.4_20230317_0946',\n",
    "'ddrsa_eeg_cr3_3333_alpha1.0_beta1_gamma0.05_BSZ32_Lr0.0001_hiddenRNN64_hiddenFC64_layersRNN2_hiddenAtt2_hiddenCS2_dropout0.4_20230328_0242',\n",
    "'ddrsa_eeg_cr3_4444_alpha1.0_beta5_gamma0.05_BSZ32_Lr0.0001_hiddenRNN64_hiddenFC64_layersRNN2_hiddenAtt2_hiddenCS2_dropout0.2_20230328_0907',\n",
    "\n",
    "best_pt_path = 'ddrsa_eeg_cr3_1234_sigmoidFalse_alpha1.0_beta0.5_gamma0.05_BSZ32_Lr0.0001_hiddenRNN64_hiddenFC64_layersRNN2_hiddenAtt3_hiddenCS3_dropout0.4_20230323_1331'\n"
   ]
  },
  {
   "cell_type": "code",
   "execution_count": 14,
   "id": "a6b52898-c902-4ebb-ba38-fdcfda09d3a6",
   "metadata": {
    "execution": {
     "iopub.execute_input": "2023-04-24T07:32:10.053471Z",
     "iopub.status.busy": "2023-04-24T07:32:10.053220Z",
     "iopub.status.idle": "2023-04-24T07:32:10.668195Z",
     "shell.execute_reply": "2023-04-24T07:32:10.667374Z",
     "shell.execute_reply.started": "2023-04-24T07:32:10.053449Z"
    },
    "tags": []
   },
   "outputs": [],
   "source": [
    "import matplotlib.pyplot as plt\n",
    "import seaborn as sns; sns.set()\n",
    "plt.style.use('default')"
   ]
  },
  {
   "cell_type": "code",
   "execution_count": 11,
   "id": "a2ed88fb-5a4a-45f9-856c-300bd175021e",
   "metadata": {
    "execution": {
     "iopub.execute_input": "2023-04-24T07:30:02.024358Z",
     "iopub.status.busy": "2023-04-24T07:30:02.024110Z",
     "iopub.status.idle": "2023-04-24T07:30:02.053876Z",
     "shell.execute_reply": "2023-04-24T07:30:02.053306Z",
     "shell.execute_reply.started": "2023-04-24T07:30:02.024336Z"
    },
    "tags": []
   },
   "outputs": [
    {
     "data": {
      "text/plain": [
       "3"
      ]
     },
     "execution_count": 11,
     "metadata": {},
     "output_type": "execute_result"
    }
   ],
   "source": [
    "num_Event"
   ]
  },
  {
   "cell_type": "markdown",
   "id": "da466772-5424-4f25-936f-e2929b90978c",
   "metadata": {},
   "source": [
    "### Hour 6"
   ]
  },
  {
   "cell_type": "code",
   "execution_count": 17,
   "id": "ef54183e-094d-4c90-a0b6-d446a8301c90",
   "metadata": {
    "execution": {
     "iopub.execute_input": "2023-04-24T07:32:58.428273Z",
     "iopub.status.busy": "2023-04-24T07:32:58.428003Z",
     "iopub.status.idle": "2023-04-24T07:33:20.953527Z",
     "shell.execute_reply": "2023-04-24T07:33:20.952782Z",
     "shell.execute_reply.started": "2023-04-24T07:32:58.428252Z"
    },
    "tags": []
   },
   "outputs": [
    {
     "name": "stderr",
     "output_type": "stream",
     "text": [
      "/heinz-georgenas/anaconda3/envs/py39xiaobin/lib/python3.9/site-packages/pycox/preprocessing/label_transforms.py:113: UserWarning: Calling fit method, when 'cuts' are already defined. Leaving cuts unchanged.\n",
      "  warnings.warn(\"Calling fit method, when 'cuts' are already defined. Leaving cuts unchanged.\")\n"
     ]
    },
    {
     "name": "stdout",
     "output_type": "stream",
     "text": [
      "eval time: 24 "
     ]
    },
    {
     "name": "stderr",
     "output_type": "stream",
     "text": [
      "5it [00:06,  1.32s/it]\n",
      "/tmp/ipykernel_2964573/668318695.py:139: UserWarning: Attempted to set non-positive left xlim on a log-scaled axis.\n",
      "Invalid limit will be ignored.\n",
      "  ax.set(xlim=[-0.05, 1.05], ylim=[-0.05, 1.05],\n"
     ]
    },
    {
     "name": "stdout",
     "output_type": "stream",
     "text": [
      "DDRSA (AUC = 0.868 ± 0.031)\n",
      "eval time: 48 "
     ]
    },
    {
     "name": "stderr",
     "output_type": "stream",
     "text": [
      "5it [00:05,  1.19s/it]\n",
      "/tmp/ipykernel_2964573/668318695.py:139: UserWarning: Attempted to set non-positive left xlim on a log-scaled axis.\n",
      "Invalid limit will be ignored.\n",
      "  ax.set(xlim=[-0.05, 1.05], ylim=[-0.05, 1.05],\n"
     ]
    },
    {
     "name": "stdout",
     "output_type": "stream",
     "text": [
      "DDRSA (AUC = 0.863 ± 0.028)\n",
      "eval time: 72 "
     ]
    },
    {
     "name": "stderr",
     "output_type": "stream",
     "text": [
      "5it [00:05,  1.19s/it]\n",
      "/tmp/ipykernel_2964573/668318695.py:139: UserWarning: Attempted to set non-positive left xlim on a log-scaled axis.\n",
      "Invalid limit will be ignored.\n",
      "  ax.set(xlim=[-0.05, 1.05], ylim=[-0.05, 1.05],\n"
     ]
    },
    {
     "name": "stdout",
     "output_type": "stream",
     "text": [
      "DDRSA (AUC = 0.849 ± 0.031)\n"
     ]
    },
    {
     "data": {
      "image/png": "[encoded data removed]",
      "text/plain": [
       "<Figure size 1200x1000 with 1 Axes>"
      ]
     },
     "metadata": {},
     "output_type": "display_data"
    },
    {
     "data": {
      "image/png": "[encoded data removed]",
      "text/plain": [
       "<Figure size 1200x1000 with 1 Axes>"
      ]
     },
     "metadata": {},
     "output_type": "display_data"
    },
    {
     "data": {
      "image/png": "[encoded data removed]",
      "text/plain": [
       "<Figure size 1200x1000 with 1 Axes>"
      ]
     },
     "metadata": {},
     "output_type": "display_data"
    }
   ],
   "source": [
    "from sklearn import metrics\n",
    "from tqdm import tqdm\n",
    "\n",
    "import matplotlib.pyplot as plt\n",
    "import seaborn as sns; sns.set()\n",
    "plt.style.use('default')\n",
    "import matplotlib\n",
    "import pickle\n",
    "\n",
    "\n",
    "use_sigmoid = True\n",
    "\n",
    "seed_list = [1234, 1111, 2222, 3333, 4444]\n",
    "best_pt_path_list = ['ddrsa_eeg_cr3_1234_alpha1.0_beta5_gamma0.5_BSZ32_Lr0.0001_hiddenRNN64_hiddenFC64_layersRNN2_hiddenAtt2_hiddenCS2_dropout0.4_20230318_0133',\n",
    "                     'ddrsa_eeg_cr3_1111_alpha1.0_beta1_gamma0.1_BSZ32_Lr0.0001_hiddenRNN64_hiddenFC64_layersRNN2_hiddenAtt2_hiddenCS2_dropout0.2_20230324_0049',\n",
    "                     'ddrsa_eeg_cr3_2222_alpha1.0_beta1_gamma0.1_BSZ32_Lr0.0001_hiddenRNN64_hiddenFC64_layersRNN2_hiddenAtt2_hiddenCS2_dropout0.4_20230317_0946',\n",
    "                     'ddrsa_eeg_cr3_3333_alpha1.0_beta1_gamma0.05_BSZ32_Lr0.0001_hiddenRNN64_hiddenFC64_layersRNN2_hiddenAtt2_hiddenCS2_dropout0.4_20230328_0242',\n",
    "                     'ddrsa_eeg_cr3_4444_alpha1.0_beta5_gamma0.05_BSZ32_Lr0.0001_hiddenRNN64_hiddenFC64_layersRNN2_hiddenAtt2_hiddenCS2_dropout0.2_20230328_0907',\n",
    "                    ]\n",
    "\n",
    "data_mode = 'EEG_cr3' # ['EEG_nocr', 'EEG_cr2', 'EEG_cr4']\n",
    "\n",
    "if data_mode == 'EEG_cr3':\n",
    "    path = '../../eeg/competing-risk/EEG_processed_data_long_by_death_cat_exclude_3.csv'\n",
    "\n",
    "(x_dim, x_dim_cont, x_dim_bin), (data, time, label, time_original, time_to_last), \\\n",
    "    (mask1, mask2, mask3), (data_mi), trans_discrete_time = \\\n",
    "                impt.import_dataset(path)\n",
    "\n",
    "_, num_Event, num_Category  = np.shape(mask1)  # dim of mask3: [subj, Num_Event, Num_Category]\n",
    "max_length                  = np.shape(data)[1]\n",
    "\n",
    "pred_time = list(range(1,13))\n",
    "eval_time = [24, 48, 72]\n",
    "mean_fpr = np.linspace(1e-10, 1, 1000)\n",
    "\n",
    "tprs = []\n",
    "aucs = []\n",
    "\n",
    "for e, e_time in enumerate(eval_time):\n",
    "    print('eval time:', e_time, end=' ')\n",
    "    tprs = []\n",
    "    aucs = []\n",
    "    for r, seed in tqdm(enumerate(seed_list)):\n",
    "\n",
    "        best_pt_path = best_pt_path_list[r]\n",
    "\n",
    "        ### TRAINING-TESTING SPLIT\n",
    "        (tr_data,te_data, tr_data_mi, te_data_mi, tr_time,te_time, tr_label,te_label, tr_time_orinal,te_time_original,\n",
    "         tr_time_to_last,te_time_to_last,\n",
    "         tr_mask1,te_mask1, tr_mask2,te_mask2, tr_mask3,te_mask3) = \\\n",
    "                train_test_split(data, data_mi, time, label, time_original, time_to_last,\n",
    "                                 mask1, mask2, mask3, test_size=0.2, stratify=label, random_state=seed) \n",
    "\n",
    "        (tr_data,va_data, tr_data_mi, va_data_mi, tr_time,va_time, tr_label,va_label, tr_time_orinal,va_time_original,\n",
    "         tr_time_to_last, va_time_to_last,\n",
    "         tr_mask1,va_mask1, tr_mask2,va_mask2, tr_mask3,va_mask3) = \\\n",
    "                train_test_split(tr_data, tr_data_mi, tr_time, tr_label, tr_time_orinal, tr_time_to_last,\n",
    "                                 tr_mask1, tr_mask2, tr_mask3, test_size=0.2, stratify=tr_label, random_state=seed) \n",
    "\n",
    "        model_name = 'ddrsa_eeg_cr3'\n",
    "        num_Event = 3\n",
    "\n",
    "        model = \\\n",
    "            DDRSA(input_dim  = x_dim,\n",
    "                  output_dim = num_Category,\n",
    "                  layers_rnn = param['layers_rnn'],\n",
    "                  hidden_rnn = param['hidden_rnn'],\n",
    "                  long_param = {'layers': 2*[param['hidden_dim_FC']], 'dropout': dropout}, \n",
    "                  att_param  = {'layers': param['hidden_att']*[param['hidden_dim_FC']], 'dropout': dropout}, \n",
    "                  cs_param   = {'layers': param['hidden_cs']*[param['hidden_dim_FC']], 'dropout': dropout},\n",
    "                  risks      = num_Event,\n",
    "                  use_sigmoid = use_sigmoid\n",
    "                 )\n",
    "        optimizer = torch.optim.Adam(model.parameters(), lr = lr_train)\n",
    "        _ = load_checkpoint(f'checkpoints_ddrsa/{model_name}/{best_pt_path}_{seed}.pt', model, optimizer, device)\n",
    "        model = model.to(device)\n",
    "\n",
    "        prob_death_all = np.ones((te_data.shape[0], len(pred_time), len(eval_time)))\n",
    "        prob_awake_all = np.ones((te_data.shape[0], len(pred_time), len(eval_time)))\n",
    "        risk_death_old_all = np.ones((te_data.shape[0], len(pred_time), len(eval_time)))\n",
    "\n",
    "        for p, p_time in enumerate(pred_time):\n",
    "            pred_horizon = int(p_time)\n",
    "            out = _f_get_pred(model, te_data, p_time, device)\n",
    "            risk_death_awaken_all_future = 1 - out[:, :2, :pred_horizon].sum((1,2))\n",
    "\n",
    "            for t, t_time in enumerate(eval_time):\n",
    "                eval_horizon = int(t_time) + pred_horizon\n",
    "                risk_death = out[:, 0, pred_horizon:eval_horizon+1].sum(1)\n",
    "                risk_awake = out[:, 1, pred_horizon:eval_horizon+1].sum(1)\n",
    "                risk_death_old = risk_death / (risk_death+risk_awake)\n",
    "                prob_death = risk_death / risk_death_awaken_all_future\n",
    "                prob_awake = risk_awake / risk_death_awaken_all_future\n",
    "                prob_death_all[:, p, t] = prob_death\n",
    "                prob_awake_all[:, p, t] = prob_awake\n",
    "                risk_death_old_all[:, p, t] = risk_death_old\n",
    "\n",
    "        mask = (te_label==1) + (te_label==2) # for only people who died naturally, and who awoke\n",
    "\n",
    "        scores = -(prob_awake_all / prob_death_all)[:, 5, e]\n",
    "        fpr, tpr, thresholds = metrics.roc_curve(te_label[mask], scores[mask.flatten()], \n",
    "                                                 pos_label=1)\n",
    "        interp_tpr = np.interp(mean_fpr, fpr, tpr)\n",
    "        interp_tpr[0] = 0.0\n",
    "        roc_auc = metrics.auc(fpr, tpr)\n",
    "\n",
    "        tprs.append(interp_tpr)\n",
    "        aucs.append(roc_auc)\n",
    "\n",
    "    n_std = 1\n",
    "    scale = 'log' # {'log', 'linear'}\n",
    "\n",
    "    fig = plt.figure(figsize=(12,10))\n",
    "    ax = fig.add_subplot(3, 2, 1)\n",
    "    ax.plot(mean_fpr, mean_fpr, linestyle='--', color='black', alpha=.8,\n",
    "            label=r'%s (AUC = %0.3f $\\pm$ %0.3f)' % ('Random', 0, 0))\n",
    "\n",
    "    mean_tpr = np.mean(tprs, axis=0)\n",
    "    mean_tpr[-1] = 1.0\n",
    "    mean_auc = metrics.auc(mean_fpr, mean_tpr)\n",
    "    std_auc = np.std(aucs)\n",
    "    plt.plot(mean_fpr, mean_tpr, color='b',\n",
    "            label=r'%s (AUC = %0.3f $\\pm$ %0.3f)' % ('DDRSA', mean_auc, n_std*std_auc),\n",
    "            lw=2, alpha=.8)\n",
    "    print(r'%s (AUC = %0.3f ± %0.3f)' % ('DDRSA', mean_auc, n_std*std_auc))\n",
    "    std_tpr = np.std(tprs, axis=0)\n",
    "    tprs_upper = np.minimum(mean_tpr + n_std*std_tpr, 1)\n",
    "    tprs_lower = np.maximum(mean_tpr - n_std*std_tpr, 0)\n",
    "    ax.fill_between(mean_fpr, tprs_lower, tprs_upper, color='b', alpha=.2)\n",
    "\n",
    "    plt.xlim([2e-2, 5])\n",
    "    plt.yticks([0.00,0.25,0.50,0.75,1.00])\n",
    "    if scale == 'log':\n",
    "        ax.set_xscale(scale)\n",
    "        ax.set_xticks([0.03, 0.06, 0.10, 0.18, 0.32, 0.56, 1.00])\n",
    "        ax.get_xaxis().set_major_formatter(matplotlib.ticker.ScalarFormatter())\n",
    "\n",
    "    ax.set(xlim=[-0.05, 1.05], ylim=[-0.05, 1.05],\n",
    "           # title=r'Mean ROC with $\\pm$ %0.1f std. dev.' % (n_std)\n",
    "          )\n",
    "    ax.legend(loc='lower right')\n",
    "    plt.xlabel('False positive rate')\n",
    "    plt.ylabel('True positive rate')\n",
    "    \n",
    "    auc_info = {'mean_tpr': mean_tpr, 'mean_auc': mean_auc, 'std_auc': std_auc, 'tprs': tprs}\n",
    "    with open(f'ddrsa_auc_info_{6}_{e_time}.pickle', 'wb') as handle:\n",
    "        pickle.dump(auc_info,\n",
    "                    handle, protocol=pickle.HIGHEST_PROTOCOL)\n",
    "    \n",
    "    fname = r'ROC_%s_%d_%d.pdf' % ('DDRSA', 6, e_time)\n",
    "    plt.savefig(fname, dpi=200, format='pdf', bbox_inches='tight')\n",
    "    # plt.show()\n",
    "   "
   ]
  },
  {
   "cell_type": "code",
   "execution_count": 18,
   "id": "b8d5f202-d2aa-4c01-a113-9247ec833e4d",
   "metadata": {
    "execution": {
     "iopub.execute_input": "2023-04-24T07:35:30.014973Z",
     "iopub.status.busy": "2023-04-24T07:35:30.014549Z",
     "iopub.status.idle": "2023-04-24T07:35:54.954607Z",
     "shell.execute_reply": "2023-04-24T07:35:54.954017Z",
     "shell.execute_reply.started": "2023-04-24T07:35:30.014941Z"
    },
    "tags": []
   },
   "outputs": [
    {
     "name": "stderr",
     "output_type": "stream",
     "text": [
      "/heinz-georgenas/anaconda3/envs/py39xiaobin/lib/python3.9/site-packages/pycox/preprocessing/label_transforms.py:113: UserWarning: Calling fit method, when 'cuts' are already defined. Leaving cuts unchanged.\n",
      "  warnings.warn(\"Calling fit method, when 'cuts' are already defined. Leaving cuts unchanged.\")\n"
     ]
    },
    {
     "name": "stdout",
     "output_type": "stream",
     "text": [
      "eval time: 24 "
     ]
    },
    {
     "name": "stderr",
     "output_type": "stream",
     "text": [
      "5it [00:06,  1.32s/it]\n",
      "/tmp/ipykernel_2964573/3238421982.py:139: UserWarning: Attempted to set non-positive left xlim on a log-scaled axis.\n",
      "Invalid limit will be ignored.\n",
      "  ax.set(xlim=[-0.05, 1.05], ylim=[-0.05, 1.05],\n"
     ]
    },
    {
     "name": "stdout",
     "output_type": "stream",
     "text": [
      "DDRSA (AUC = 0.871 ± 0.015)\n",
      "eval time: 48 "
     ]
    },
    {
     "name": "stderr",
     "output_type": "stream",
     "text": [
      "5it [00:08,  1.71s/it]\n",
      "/tmp/ipykernel_2964573/3238421982.py:139: UserWarning: Attempted to set non-positive left xlim on a log-scaled axis.\n",
      "Invalid limit will be ignored.\n",
      "  ax.set(xlim=[-0.05, 1.05], ylim=[-0.05, 1.05],\n"
     ]
    },
    {
     "name": "stdout",
     "output_type": "stream",
     "text": [
      "DDRSA (AUC = 0.853 ± 0.019)\n",
      "eval time: 72 "
     ]
    },
    {
     "name": "stderr",
     "output_type": "stream",
     "text": [
      "5it [00:05,  1.17s/it]\n",
      "/tmp/ipykernel_2964573/3238421982.py:139: UserWarning: Attempted to set non-positive left xlim on a log-scaled axis.\n",
      "Invalid limit will be ignored.\n",
      "  ax.set(xlim=[-0.05, 1.05], ylim=[-0.05, 1.05],\n"
     ]
    },
    {
     "name": "stdout",
     "output_type": "stream",
     "text": [
      "DDRSA (AUC = 0.822 ± 0.020)\n"
     ]
    },
    {
     "data": {
      "image/png": "[encoded data removed]",
      "text/plain": [
       "<Figure size 1200x1000 with 1 Axes>"
      ]
     },
     "metadata": {},
     "output_type": "display_data"
    },
    {
     "data": {
      "image/png": "[encoded data removed]",
      "text/plain": [
       "<Figure size 1200x1000 with 1 Axes>"
      ]
     },
     "metadata": {},
     "output_type": "display_data"
    },
    {
     "data": {
      "image/png": "[encoded data removed]",
      "text/plain": [
       "<Figure size 1200x1000 with 1 Axes>"
      ]
     },
     "metadata": {},
     "output_type": "display_data"
    }
   ],
   "source": [
    "from sklearn import metrics\n",
    "from tqdm import tqdm\n",
    "\n",
    "import matplotlib.pyplot as plt\n",
    "import seaborn as sns; sns.set()\n",
    "plt.style.use('default')\n",
    "import matplotlib\n",
    "import pickle\n",
    "\n",
    "\n",
    "use_sigmoid = True\n",
    "\n",
    "seed_list = [1234, 1111, 2222, 3333, 4444]\n",
    "best_pt_path_list = ['ddrsa_eeg_cr3_1234_alpha1.0_beta5_gamma0.5_BSZ32_Lr0.0001_hiddenRNN64_hiddenFC64_layersRNN2_hiddenAtt2_hiddenCS2_dropout0.4_20230318_0133',\n",
    "                     'ddrsa_eeg_cr3_1111_alpha1.0_beta1_gamma0.1_BSZ32_Lr0.0001_hiddenRNN64_hiddenFC64_layersRNN2_hiddenAtt2_hiddenCS2_dropout0.2_20230324_0049',\n",
    "                     'ddrsa_eeg_cr3_2222_alpha1.0_beta1_gamma0.1_BSZ32_Lr0.0001_hiddenRNN64_hiddenFC64_layersRNN2_hiddenAtt2_hiddenCS2_dropout0.4_20230317_0946',\n",
    "                     'ddrsa_eeg_cr3_3333_alpha1.0_beta1_gamma0.05_BSZ32_Lr0.0001_hiddenRNN64_hiddenFC64_layersRNN2_hiddenAtt2_hiddenCS2_dropout0.4_20230328_0242',\n",
    "                     'ddrsa_eeg_cr3_4444_alpha1.0_beta5_gamma0.05_BSZ32_Lr0.0001_hiddenRNN64_hiddenFC64_layersRNN2_hiddenAtt2_hiddenCS2_dropout0.2_20230328_0907',\n",
    "                    ]\n",
    "\n",
    "data_mode = 'EEG_cr3' # ['EEG_nocr', 'EEG_cr2', 'EEG_cr4']\n",
    "\n",
    "if data_mode == 'EEG_cr3':\n",
    "    path = '../../eeg/competing-risk/EEG_processed_data_long_by_death_cat_exclude_3.csv'\n",
    "\n",
    "(x_dim, x_dim_cont, x_dim_bin), (data, time, label, time_original, time_to_last), \\\n",
    "    (mask1, mask2, mask3), (data_mi), trans_discrete_time = \\\n",
    "                impt.import_dataset(path)\n",
    "\n",
    "_, num_Event, num_Category  = np.shape(mask1)  # dim of mask3: [subj, Num_Event, Num_Category]\n",
    "max_length                  = np.shape(data)[1]\n",
    "\n",
    "pred_time = list(range(1,13))\n",
    "eval_time = [24, 48, 72]\n",
    "mean_fpr = np.linspace(1e-10, 1, 1000)\n",
    "\n",
    "tprs = []\n",
    "aucs = []\n",
    "\n",
    "for e, e_time in enumerate(eval_time):\n",
    "    print('eval time:', e_time, end=' ')\n",
    "    tprs = []\n",
    "    aucs = []\n",
    "    for r, seed in tqdm(enumerate(seed_list)):\n",
    "\n",
    "        best_pt_path = best_pt_path_list[r]\n",
    "\n",
    "        ### TRAINING-TESTING SPLIT\n",
    "        (tr_data,te_data, tr_data_mi, te_data_mi, tr_time,te_time, tr_label,te_label, tr_time_orinal,te_time_original,\n",
    "         tr_time_to_last,te_time_to_last,\n",
    "         tr_mask1,te_mask1, tr_mask2,te_mask2, tr_mask3,te_mask3) = \\\n",
    "                train_test_split(data, data_mi, time, label, time_original, time_to_last,\n",
    "                                 mask1, mask2, mask3, test_size=0.2, stratify=label, random_state=seed) \n",
    "\n",
    "        (tr_data,va_data, tr_data_mi, va_data_mi, tr_time,va_time, tr_label,va_label, tr_time_orinal,va_time_original,\n",
    "         tr_time_to_last, va_time_to_last,\n",
    "         tr_mask1,va_mask1, tr_mask2,va_mask2, tr_mask3,va_mask3) = \\\n",
    "                train_test_split(tr_data, tr_data_mi, tr_time, tr_label, tr_time_orinal, tr_time_to_last,\n",
    "                                 tr_mask1, tr_mask2, tr_mask3, test_size=0.2, stratify=tr_label, random_state=seed) \n",
    "\n",
    "        model_name = 'ddrsa_eeg_cr3'\n",
    "        num_Event = 3\n",
    "\n",
    "        model = \\\n",
    "            DDRSA(input_dim  = x_dim,\n",
    "                  output_dim = num_Category,\n",
    "                  layers_rnn = param['layers_rnn'],\n",
    "                  hidden_rnn = param['hidden_rnn'],\n",
    "                  long_param = {'layers': 2*[param['hidden_dim_FC']], 'dropout': dropout}, \n",
    "                  att_param  = {'layers': param['hidden_att']*[param['hidden_dim_FC']], 'dropout': dropout}, \n",
    "                  cs_param   = {'layers': param['hidden_cs']*[param['hidden_dim_FC']], 'dropout': dropout},\n",
    "                  risks      = num_Event,\n",
    "                  use_sigmoid = use_sigmoid\n",
    "                 )\n",
    "        optimizer = torch.optim.Adam(model.parameters(), lr = lr_train)\n",
    "        _ = load_checkpoint(f'checkpoints_ddrsa/{model_name}/{best_pt_path}_{seed}.pt', model, optimizer, device)\n",
    "        model = model.to(device)\n",
    "\n",
    "        prob_death_all = np.ones((te_data.shape[0], len(pred_time), len(eval_time)))\n",
    "        prob_awake_all = np.ones((te_data.shape[0], len(pred_time), len(eval_time)))\n",
    "        risk_death_old_all = np.ones((te_data.shape[0], len(pred_time), len(eval_time)))\n",
    "\n",
    "        for p, p_time in enumerate(pred_time):\n",
    "            pred_horizon = int(p_time)\n",
    "            out = _f_get_pred(model, te_data, p_time, device)\n",
    "            risk_death_awaken_all_future = 1 - out[:, :2, :pred_horizon].sum((1,2))\n",
    "\n",
    "            for t, t_time in enumerate(eval_time):\n",
    "                eval_horizon = int(t_time) + pred_horizon\n",
    "                risk_death = out[:, 0, pred_horizon:eval_horizon+1].sum(1)\n",
    "                risk_awake = out[:, 1, pred_horizon:eval_horizon+1].sum(1)\n",
    "                risk_death_old = risk_death / (risk_death+risk_awake)\n",
    "                prob_death = risk_death / risk_death_awaken_all_future\n",
    "                prob_awake = risk_awake / risk_death_awaken_all_future\n",
    "                prob_death_all[:, p, t] = prob_death\n",
    "                prob_awake_all[:, p, t] = prob_awake\n",
    "                risk_death_old_all[:, p, t] = risk_death_old\n",
    "\n",
    "        mask = (te_label==1) + (te_label==2) # for only people who died naturally, and who awoke\n",
    "\n",
    "        scores = -(prob_awake_all / prob_death_all)[:, -1, e]\n",
    "        fpr, tpr, thresholds = metrics.roc_curve(te_label[mask], scores[mask.flatten()], \n",
    "                                                 pos_label=1)\n",
    "        interp_tpr = np.interp(mean_fpr, fpr, tpr)\n",
    "        interp_tpr[0] = 0.0\n",
    "        roc_auc = metrics.auc(fpr, tpr)\n",
    "\n",
    "        tprs.append(interp_tpr)\n",
    "        aucs.append(roc_auc)\n",
    "\n",
    "    n_std = 1\n",
    "    scale = 'log' # {'log', 'linear'}\n",
    "\n",
    "    fig = plt.figure(figsize=(12,10))\n",
    "    ax = fig.add_subplot(3, 2, 1)\n",
    "    ax.plot(mean_fpr, mean_fpr, linestyle='--', color='black', alpha=.8,\n",
    "            label=r'%s (AUC = %0.3f $\\pm$ %0.3f)' % ('Random', 0, 0))\n",
    "\n",
    "    mean_tpr = np.mean(tprs, axis=0)\n",
    "    mean_tpr[-1] = 1.0\n",
    "    mean_auc = metrics.auc(mean_fpr, mean_tpr)\n",
    "    std_auc = np.std(aucs)\n",
    "    plt.plot(mean_fpr, mean_tpr, color='b',\n",
    "            label=r'%s (AUC = %0.3f $\\pm$ %0.3f)' % ('DDRSA', mean_auc, n_std*std_auc),\n",
    "            lw=2, alpha=.8)\n",
    "    print(r'%s (AUC = %0.3f ± %0.3f)' % ('DDRSA', mean_auc, n_std*std_auc))\n",
    "    std_tpr = np.std(tprs, axis=0)\n",
    "    tprs_upper = np.minimum(mean_tpr + n_std*std_tpr, 1)\n",
    "    tprs_lower = np.maximum(mean_tpr - n_std*std_tpr, 0)\n",
    "    ax.fill_between(mean_fpr, tprs_lower, tprs_upper, color='b', alpha=.2)\n",
    "\n",
    "    plt.xlim([2e-2, 5])\n",
    "    plt.yticks([0.00,0.25,0.50,0.75,1.00])\n",
    "    if scale == 'log':\n",
    "        ax.set_xscale(scale)\n",
    "        ax.set_xticks([0.03, 0.06, 0.10, 0.18, 0.32, 0.56, 1.00])\n",
    "        ax.get_xaxis().set_major_formatter(matplotlib.ticker.ScalarFormatter())\n",
    "\n",
    "    ax.set(xlim=[-0.05, 1.05], ylim=[-0.05, 1.05],\n",
    "           # title=r'Mean ROC with $\\pm$ %0.1f std. dev.' % (n_std)\n",
    "          )\n",
    "    ax.legend(loc='lower right')\n",
    "    plt.xlabel('False positive rate')\n",
    "    plt.ylabel('True positive rate')\n",
    "    \n",
    "    auc_info = {'mean_tpr': mean_tpr, 'mean_auc': mean_auc, 'std_auc': std_auc, 'tprs': tprs}\n",
    "    with open(f'ddrsa_auc_info_{12}_{e_time}.pickle', 'wb') as handle:\n",
    "        pickle.dump(auc_info,\n",
    "                    handle, protocol=pickle.HIGHEST_PROTOCOL)\n",
    "    \n",
    "    fname = r'ROC_%s_%d_%d.pdf' % ('DDRSA', 12, e_time)\n",
    "    plt.savefig(fname, dpi=200, format='pdf', bbox_inches='tight')\n",
    "    # plt.show()\n",
    "   "
   ]
  },
  {
   "cell_type": "code",
   "execution_count": null,
   "id": "c27c1b88-7bcb-43f1-b8fa-53280a835c35",
   "metadata": {},
   "outputs": [],
   "source": []
  },
  {
   "cell_type": "markdown",
   "id": "183aba61",
   "metadata": {},
   "source": [
    "# Part III: Test the model"
   ]
  },
  {
   "cell_type": "code",
   "execution_count": 81,
   "id": "d84fb5ef-e1b9-44e3-871c-563a79f4fd7e",
   "metadata": {
    "execution": {
     "iopub.execute_input": "2023-04-09T05:29:14.051339Z",
     "iopub.status.busy": "2023-04-09T05:29:14.050761Z",
     "iopub.status.idle": "2023-04-09T05:29:14.092829Z",
     "shell.execute_reply": "2023-04-09T05:29:14.081513Z",
     "shell.execute_reply.started": "2023-04-09T05:29:14.051288Z"
    },
    "tags": []
   },
   "outputs": [],
   "source": [
    "def eval_model(model, te_data, pred_time, eval_time, num_Event, device='cuda'):\n",
    "    # pred_time = [4, 8, 12]\n",
    "    # eval_time = [12, 24, 36, 48, 60, 72]\n",
    "\n",
    "    risk_all = f_get_risk_predictions(model, te_data, pred_time, eval_time, device=device)\n",
    "\n",
    "    for p, p_time in enumerate(pred_time):\n",
    "        pred_horizon = int(p_time)\n",
    "        result1, result2 = np.zeros([num_Event, len(eval_time)]), np.zeros([num_Event, len(eval_time)])\n",
    "\n",
    "        for t, t_time in enumerate(eval_time):                \n",
    "            eval_horizon = int(t_time) + pred_horizon\n",
    "            for k in range(num_Event):\n",
    "                result1[k, t] = c_index(risk_all[k][:, p, t], te_time, (te_label[:,0] == k+1).astype(int), eval_horizon) #-1 for no event (not comparable)\n",
    "                result2[k, t] = brier_score(risk_all[k][:, p, t], te_time, (te_label[:,0] == k+1).astype(int), eval_horizon) #-1 for no event (not comparable)\n",
    "\n",
    "        if p == 0:\n",
    "            final1, final2 = result1, result2\n",
    "        else:\n",
    "            final1, final2 = np.append(final1, result1, axis=0), np.append(final2, result2, axis=0)\n",
    "\n",
    "\n",
    "    row_header = []\n",
    "    for p_time in pred_time:\n",
    "        for k in range(num_Event):\n",
    "            row_header.append('pred_time {}: event_{}'.format(p_time, k+1))\n",
    "\n",
    "    col_header = []\n",
    "    for t_time in eval_time:\n",
    "        col_header.append('eval_time {}'.format(t_time))\n",
    "\n",
    "    # c-index result\n",
    "    df1 = pd.DataFrame(final1, index = row_header, columns=col_header)\n",
    "\n",
    "    # brier-score result\n",
    "    df2 = pd.DataFrame(final2, index = row_header, columns=col_header)\n",
    "\n",
    "    ### PRINT RESULTS\n",
    "    print('========================================================')\n",
    "    print('--------------------------------------------------------')\n",
    "    print('- C-INDEX: ')\n",
    "    print(df1)\n",
    "    print('--------------------------------------------------------')\n",
    "    print('- BRIER-SCORE: ')\n",
    "    print(df2)\n",
    "    print('========================================================')\n",
    "    \n",
    "    return df1, df2"
   ]
  },
  {
   "cell_type": "markdown",
   "id": "394aa46b-2442-47cc-b3b4-e57b7b327346",
   "metadata": {},
   "source": [
    "### three competing risk\n",
    "- 1: Death (Rearrested, intractable shock, multisystem organ failure; Brain death)\n",
    "- 2: Awake\n",
    "- 3: Withdrawal for perceived poor neurological prognosis"
   ]
  },
  {
   "cell_type": "code",
   "execution_count": 82,
   "id": "d6fdd069-6462-4e13-8b8d-09e4b564c31f",
   "metadata": {
    "execution": {
     "iopub.execute_input": "2023-04-09T05:29:15.653146Z",
     "iopub.status.busy": "2023-04-09T05:29:15.651533Z",
     "iopub.status.idle": "2023-04-09T05:29:21.811645Z",
     "shell.execute_reply": "2023-04-09T05:29:21.810249Z",
     "shell.execute_reply.started": "2023-04-09T05:29:15.653076Z"
    },
    "tags": []
   },
   "outputs": [
    {
     "name": "stderr",
     "output_type": "stream",
     "text": [
      "/heinz-georgenas/anaconda3/envs/py39xiaobin/lib/python3.9/site-packages/pycox/preprocessing/label_transforms.py:113: UserWarning: Calling fit method, when 'cuts' are already defined. Leaving cuts unchanged.\n",
      "  warnings.warn(\"Calling fit method, when 'cuts' are already defined. Leaving cuts unchanged.\")\n"
     ]
    },
    {
     "data": {
      "text/plain": [
       "3"
      ]
     },
     "execution_count": 82,
     "metadata": {},
     "output_type": "execute_result"
    }
   ],
   "source": [
    "seed = SEED\n",
    "\n",
    "data_mode = 'EEG_cr3' # ['EEG_nocr', 'EEG_cr2', 'EEG_cr4']\n",
    "\n",
    "if data_mode == 'EEG_nocr':\n",
    "    path = '../../eeg/varying-seq-len/EEG_processed_data_long.csv'\n",
    "elif data_mode == 'EEG_cr2':\n",
    "    path = '../../eeg/competing-risk/EEG_processed_data_long.csv'\n",
    "elif data_mode == 'EEG_cr4':\n",
    "    path = '../../eeg/competing-risk/EEG_processed_data_long_by_death_cat.csv'\n",
    "elif data_mode == 'EEG_cr3':\n",
    "    path = '../../eeg/competing-risk/EEG_processed_data_long_by_death_cat_exclude_3.csv'\n",
    "\n",
    "(x_dim, x_dim_cont, x_dim_bin), (data, time, label, time_original, time_to_last), \\\n",
    "    (mask1, mask2, mask3), (data_mi), trans_discrete_time = \\\n",
    "                impt.import_dataset(path)\n",
    "\n",
    "_, num_Event, num_Category  = np.shape(mask1)  # dim of mask3: [subj, Num_Event, Num_Category]\n",
    "max_length                  = np.shape(data)[1]\n",
    "\n",
    "### TRAINING-TESTING SPLIT\n",
    "(tr_data,te_data, tr_data_mi, te_data_mi, tr_time,te_time, tr_label,te_label, tr_time_orinal,te_time_original,\n",
    " tr_time_to_last,te_time_to_last,\n",
    " tr_mask1,te_mask1, tr_mask2,te_mask2, tr_mask3,te_mask3) = \\\n",
    "        train_test_split(data, data_mi, time, label, time_original, time_to_last,\n",
    "                         mask1, mask2, mask3, test_size=0.2, stratify=label, random_state=seed) \n",
    "\n",
    "(tr_data,va_data, tr_data_mi, va_data_mi, tr_time,va_time, tr_label,va_label, tr_time_orinal,va_time_original,\n",
    " tr_time_to_last, va_time_to_last,\n",
    " tr_mask1,va_mask1, tr_mask2,va_mask2, tr_mask3,va_mask3) = \\\n",
    "        train_test_split(tr_data, tr_data_mi, tr_time, tr_label, tr_time_orinal, tr_time_to_last,\n",
    "                         tr_mask1, tr_mask2, tr_mask3, test_size=0.2, stratify=tr_label, random_state=seed) \n",
    "\n",
    "num_Event"
   ]
  },
  {
   "cell_type": "markdown",
   "id": "fd092867-640a-4af8-8459-8d7ffefc0310",
   "metadata": {
    "tags": []
   },
   "source": [
    "#### DDRSA"
   ]
  },
  {
   "cell_type": "code",
   "execution_count": 39,
   "id": "e8406f08-f268-4bd9-88e2-57f80c2f5081",
   "metadata": {
    "execution": {
     "iopub.execute_input": "2023-04-03T05:18:18.909205Z",
     "iopub.status.busy": "2023-04-03T05:18:18.908784Z",
     "iopub.status.idle": "2023-04-03T05:18:19.465983Z",
     "shell.execute_reply": "2023-04-03T05:18:19.465340Z",
     "shell.execute_reply.started": "2023-04-03T05:18:18.909167Z"
    },
    "scrolled": true,
    "tags": []
   },
   "outputs": [
    {
     "name": "stdout",
     "output_type": "stream",
     "text": [
      "========================================================\n",
      "--------------------------------------------------------\n",
      "- C-INDEX: \n",
      "                       eval_time 24  eval_time 48  eval_time 72  eval_time 96\n",
      "pred_time 6: event_1       0.671414      0.648041      0.689655      0.724554\n",
      "pred_time 6: event_2       0.803154      0.847145      0.838727      0.821962\n",
      "pred_time 6: event_3       0.617995      0.545581      0.603801      0.597442\n",
      "pred_time 12: event_1      0.759639      0.715438      0.729443      0.727899\n",
      "pred_time 12: event_2      0.799552      0.787920      0.791343      0.769490\n",
      "pred_time 12: event_3      0.536557      0.577127      0.607293      0.605910\n",
      "--------------------------------------------------------\n",
      "- BRIER-SCORE: \n",
      "                       eval_time 24  eval_time 48  eval_time 72  eval_time 96\n",
      "pred_time 6: event_1       0.038770      0.078816      0.107982      0.122266\n",
      "pred_time 6: event_2       0.052299      0.099254      0.127955      0.142834\n",
      "pred_time 6: event_3       0.083791      0.154161      0.190634      0.205454\n",
      "pred_time 12: event_1      0.046571      0.085154      0.109830      0.128017\n",
      "pred_time 12: event_2      0.062801      0.108201      0.133143      0.151935\n",
      "pred_time 12: event_3      0.099585      0.165574      0.195419      0.210678\n",
      "========================================================\n"
     ]
    }
   ],
   "source": [
    "pred_time = [6,12]\n",
    "eval_time = [24, 48, 72, 96]\n",
    "model_name = 'ddrsa_eeg_cr3'\n",
    "\n",
    "use_sigmoid = False\n",
    "hidden_att  = 3\n",
    "hidden_cs   = 3\n",
    "\n",
    "best_pt_path = 'ddrsa_eeg_cr3_1234_alpha1.0_beta5_gamma0.5_BSZ32_Lr0.0001_hiddenRNN64_hiddenFC64_layersRNN2_hiddenAtt2_hiddenCS2_dropout0.4_20230318_0133'\n",
    "best_pt_path = 'ddrsa_eeg_cr3_1234_sigmoidFalse_alpha1.0_beta0.5_gamma0.05_BSZ32_Lr0.0001_hiddenRNN64_hiddenFC64_layersRNN2_hiddenAtt3_hiddenCS3_dropout0.4_20230323_1331'\n",
    "# best_pt_path = 'ddrsa_eeg_cr3_1111_alpha1.0_beta1_gamma0.1_BSZ32_Lr0.0001_hiddenRNN64_hiddenFC64_layersRNN2_hiddenAtt2_hiddenCS2_dropout0.2_20230324_0049'\n",
    "# best_pt_path = 'ddrsa_eeg_cr3_2222_alpha1.0_beta1_gamma0.1_BSZ32_Lr0.0001_hiddenRNN64_hiddenFC64_layersRNN2_hiddenAtt2_hiddenCS2_dropout0.4_20230317_0946'\n",
    "# best_pt_path = 'ddrsa_eeg_cr3_3333_alpha1.0_beta1_gamma0.05_BSZ32_Lr0.0001_hiddenRNN64_hiddenFC64_layersRNN2_hiddenAtt2_hiddenCS2_dropout0.4_20230328_0242'\n",
    "# best_pt_path = 'ddrsa_eeg_cr3_4444_alpha1.0_beta5_gamma0.05_BSZ32_Lr0.0001_hiddenRNN64_hiddenFC64_layersRNN2_hiddenAtt2_hiddenCS2_dropout0.2_20230328_0907'\n",
    "model = \\\n",
    "    DDRSA(input_dim  = x_dim,\n",
    "              output_dim = num_Category,\n",
    "              layers_rnn = param['layers_rnn'],\n",
    "              hidden_rnn = param['hidden_rnn'],\n",
    "              long_param = {'layers': 2*[param['hidden_dim_FC']], 'dropout': dropout}, \n",
    "              att_param  = {'layers': 3*[param['hidden_dim_FC']], 'dropout': dropout}, \n",
    "              cs_param   = {'layers': 3*[param['hidden_dim_FC']], 'dropout': dropout},\n",
    "              risks      = num_Event,\n",
    "              use_sigmoid = use_sigmoid\n",
    "             )\n",
    "optimizer = torch.optim.Adam(model.parameters(), lr = lr_train)\n",
    "_ = load_checkpoint(f'checkpoints_ddrsa/{model_name}/{best_pt_path}_{SEED}.pt', model, optimizer, device)\n",
    "model = model.to(device)\n",
    "\n",
    "df1, df2 = eval_model(model, te_data, pred_time, eval_time, num_Event)"
   ]
  },
  {
   "cell_type": "markdown",
   "id": "b05a932d-9f69-4290-8563-42789d030af5",
   "metadata": {},
   "source": [
    "### c-index"
   ]
  },
  {
   "cell_type": "code",
   "execution_count": 40,
   "id": "d46301c3-89c3-4900-9745-c208410520e9",
   "metadata": {
    "execution": {
     "iopub.execute_input": "2023-04-03T05:18:25.439017Z",
     "iopub.status.busy": "2023-04-03T05:18:25.438019Z",
     "iopub.status.idle": "2023-04-03T05:18:25.452043Z",
     "shell.execute_reply": "2023-04-03T05:18:25.451333Z",
     "shell.execute_reply.started": "2023-04-03T05:18:25.438939Z"
    },
    "tags": []
   },
   "outputs": [
    {
     "data": {
      "text/html": [
       "<div>\n",
       "<style scoped>\n",
       "    .dataframe tbody tr th:only-of-type {\n",
       "        vertical-align: middle;\n",
       "    }\n",
       "\n",
       "    .dataframe tbody tr th {\n",
       "        vertical-align: top;\n",
       "    }\n",
       "\n",
       "    .dataframe thead th {\n",
       "        text-align: right;\n",
       "    }\n",
       "</style>\n",
       "<table border=\"1\" class=\"dataframe\">\n",
       "  <thead>\n",
       "    <tr style=\"text-align: right;\">\n",
       "      <th></th>\n",
       "      <th>eval_time 24</th>\n",
       "      <th>eval_time 48</th>\n",
       "      <th>eval_time 72</th>\n",
       "      <th>eval_time 96</th>\n",
       "    </tr>\n",
       "  </thead>\n",
       "  <tbody>\n",
       "    <tr>\n",
       "      <th>pred_time 6: event_1</th>\n",
       "      <td>0.671414</td>\n",
       "      <td>0.648041</td>\n",
       "      <td>0.689655</td>\n",
       "      <td>0.724554</td>\n",
       "    </tr>\n",
       "    <tr>\n",
       "      <th>pred_time 12: event_1</th>\n",
       "      <td>0.759639</td>\n",
       "      <td>0.715438</td>\n",
       "      <td>0.729443</td>\n",
       "      <td>0.727899</td>\n",
       "    </tr>\n",
       "  </tbody>\n",
       "</table>\n",
       "</div>"
      ],
      "text/plain": [
       "                       eval_time 24  eval_time 48  eval_time 72  eval_time 96\n",
       "pred_time 6: event_1       0.671414      0.648041      0.689655      0.724554\n",
       "pred_time 12: event_1      0.759639      0.715438      0.729443      0.727899"
      ]
     },
     "execution_count": 40,
     "metadata": {},
     "output_type": "execute_result"
    }
   ],
   "source": [
    "df1[::3] # 1: death"
   ]
  },
  {
   "cell_type": "code",
   "execution_count": 41,
   "id": "b748497a-2baa-4e65-8a2a-b4c029c5728e",
   "metadata": {
    "execution": {
     "iopub.execute_input": "2023-04-03T05:18:25.756253Z",
     "iopub.status.busy": "2023-04-03T05:18:25.755392Z",
     "iopub.status.idle": "2023-04-03T05:18:25.778750Z",
     "shell.execute_reply": "2023-04-03T05:18:25.777777Z",
     "shell.execute_reply.started": "2023-04-03T05:18:25.756173Z"
    },
    "tags": []
   },
   "outputs": [
    {
     "data": {
      "text/html": [
       "<div>\n",
       "<style scoped>\n",
       "    .dataframe tbody tr th:only-of-type {\n",
       "        vertical-align: middle;\n",
       "    }\n",
       "\n",
       "    .dataframe tbody tr th {\n",
       "        vertical-align: top;\n",
       "    }\n",
       "\n",
       "    .dataframe thead th {\n",
       "        text-align: right;\n",
       "    }\n",
       "</style>\n",
       "<table border=\"1\" class=\"dataframe\">\n",
       "  <thead>\n",
       "    <tr style=\"text-align: right;\">\n",
       "      <th></th>\n",
       "      <th>eval_time 24</th>\n",
       "      <th>eval_time 48</th>\n",
       "      <th>eval_time 72</th>\n",
       "      <th>eval_time 96</th>\n",
       "    </tr>\n",
       "  </thead>\n",
       "  <tbody>\n",
       "    <tr>\n",
       "      <th>pred_time 6: event_2</th>\n",
       "      <td>0.803154</td>\n",
       "      <td>0.847145</td>\n",
       "      <td>0.838727</td>\n",
       "      <td>0.821962</td>\n",
       "    </tr>\n",
       "    <tr>\n",
       "      <th>pred_time 12: event_2</th>\n",
       "      <td>0.799552</td>\n",
       "      <td>0.787920</td>\n",
       "      <td>0.791343</td>\n",
       "      <td>0.769490</td>\n",
       "    </tr>\n",
       "  </tbody>\n",
       "</table>\n",
       "</div>"
      ],
      "text/plain": [
       "                       eval_time 24  eval_time 48  eval_time 72  eval_time 96\n",
       "pred_time 6: event_2       0.803154      0.847145      0.838727      0.821962\n",
       "pred_time 12: event_2      0.799552      0.787920      0.791343      0.769490"
      ]
     },
     "execution_count": 41,
     "metadata": {},
     "output_type": "execute_result"
    }
   ],
   "source": [
    "df1[1::3] # 2: awake"
   ]
  },
  {
   "cell_type": "code",
   "execution_count": 42,
   "id": "2a22f902-223b-423a-b82e-17292b523c1d",
   "metadata": {
    "execution": {
     "iopub.execute_input": "2023-04-03T05:18:26.101371Z",
     "iopub.status.busy": "2023-04-03T05:18:26.100541Z",
     "iopub.status.idle": "2023-04-03T05:18:26.124691Z",
     "shell.execute_reply": "2023-04-03T05:18:26.122829Z",
     "shell.execute_reply.started": "2023-04-03T05:18:26.101293Z"
    },
    "tags": []
   },
   "outputs": [
    {
     "data": {
      "text/html": [
       "<div>\n",
       "<style scoped>\n",
       "    .dataframe tbody tr th:only-of-type {\n",
       "        vertical-align: middle;\n",
       "    }\n",
       "\n",
       "    .dataframe tbody tr th {\n",
       "        vertical-align: top;\n",
       "    }\n",
       "\n",
       "    .dataframe thead th {\n",
       "        text-align: right;\n",
       "    }\n",
       "</style>\n",
       "<table border=\"1\" class=\"dataframe\">\n",
       "  <thead>\n",
       "    <tr style=\"text-align: right;\">\n",
       "      <th></th>\n",
       "      <th>eval_time 24</th>\n",
       "      <th>eval_time 48</th>\n",
       "      <th>eval_time 72</th>\n",
       "      <th>eval_time 96</th>\n",
       "    </tr>\n",
       "  </thead>\n",
       "  <tbody>\n",
       "    <tr>\n",
       "      <th>pred_time 6: event_3</th>\n",
       "      <td>0.617995</td>\n",
       "      <td>0.545581</td>\n",
       "      <td>0.603801</td>\n",
       "      <td>0.597442</td>\n",
       "    </tr>\n",
       "    <tr>\n",
       "      <th>pred_time 12: event_3</th>\n",
       "      <td>0.536557</td>\n",
       "      <td>0.577127</td>\n",
       "      <td>0.607293</td>\n",
       "      <td>0.605910</td>\n",
       "    </tr>\n",
       "  </tbody>\n",
       "</table>\n",
       "</div>"
      ],
      "text/plain": [
       "                       eval_time 24  eval_time 48  eval_time 72  eval_time 96\n",
       "pred_time 6: event_3       0.617995      0.545581      0.603801      0.597442\n",
       "pred_time 12: event_3      0.536557      0.577127      0.607293      0.605910"
      ]
     },
     "execution_count": 42,
     "metadata": {},
     "output_type": "execute_result"
    }
   ],
   "source": [
    "df1[2::3] # 3: Withdrawal for perceived poor neurological prognosis"
   ]
  },
  {
   "cell_type": "code",
   "execution_count": null,
   "id": "78ede6ff-d43a-40cc-8935-89faddb3e5e7",
   "metadata": {},
   "outputs": [],
   "source": []
  }
 ],
 "metadata": {
  "kernelspec": {
   "display_name": "Python 3 (ipykernel)",
   "language": "python",
   "name": "python3"
  },
  "language_info": {
   "codemirror_mode": {
    "name": "ipython",
    "version": 3
   },
   "file_extension": ".py",
   "mimetype": "text/x-python",
   "name": "python",
   "nbconvert_exporter": "python",
   "pygments_lexer": "ipython3",
   "version": "3.9.7"
  },
  "toc": {
   "base_numbering": 1,
   "nav_menu": {},
   "number_sections": true,
   "sideBar": true,
   "skip_h1_title": false,
   "title_cell": "Table of Contents",
   "title_sidebar": "Contents",
   "toc_cell": false,
   "toc_position": {
    "height": "calc(100% - 180px)",
    "left": "10px",
    "top": "150px",
    "width": "349.091px"
   },
   "toc_section_display": true,
   "toc_window_display": true
  }
 },
 "nbformat": 4,
 "nbformat_minor": 5
}
