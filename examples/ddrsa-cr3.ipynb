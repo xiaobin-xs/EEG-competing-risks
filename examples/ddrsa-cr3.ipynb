{
 "cells": [
  {
   "cell_type": "code",
   "execution_count": 1,
   "id": "b80ff03c",
   "metadata": {
    "ExecuteTime": {
     "end_time": "2023-03-01T22:03:15.817497Z",
     "start_time": "2023-03-01T22:03:15.800683Z"
    },
    "execution": {
     "iopub.execute_input": "2023-03-27T15:37:10.297973Z",
     "iopub.status.busy": "2023-03-27T15:37:10.297432Z",
     "iopub.status.idle": "2023-03-27T15:37:10.306981Z",
     "shell.execute_reply": "2023-03-27T15:37:10.305750Z",
     "shell.execute_reply.started": "2023-03-27T15:37:10.297949Z"
    },
    "tags": []
   },
   "outputs": [],
   "source": [
    "SEED = 4444\n",
    "_EPSILON = 1e-08"
   ]
  },
  {
   "cell_type": "code",
   "execution_count": 2,
   "id": "acc16d0a",
   "metadata": {
    "ExecuteTime": {
     "end_time": "2023-03-02T16:00:14.081365Z",
     "start_time": "2023-03-02T16:00:13.647673Z"
    },
    "execution": {
     "iopub.execute_input": "2023-03-27T15:37:10.323737Z",
     "iopub.status.busy": "2023-03-27T15:37:10.323507Z",
     "iopub.status.idle": "2023-03-27T15:37:33.069472Z",
     "shell.execute_reply": "2023-03-27T15:37:33.068664Z",
     "shell.execute_reply.started": "2023-03-27T15:37:10.323715Z"
    },
    "tags": []
   },
   "outputs": [],
   "source": [
    "import sys\n",
    "sys.path.append('../scr/')\n",
    "\n",
    "import pandas as pd\n",
    "import numpy as np\n",
    "import torch.nn as nn\n",
    "import torch\n",
    "from torch.utils.data import DataLoader\n",
    "import torch.nn.functional as F\n",
    "import os\n",
    "from sklearn.model_selection import train_test_split\n",
    "from tqdm import tqdm\n",
    "from torch.utils.tensorboard import SummaryWriter\n",
    "import datetime\n",
    "\n",
    "from ddrsa import DDRSA\n",
    "import import_data as impt\n",
    "from utils_eval import c_index, brier_score\n",
    "from utils_helper import f_get_boosted_trainset\n",
    "from utils_helper import loss_Log_Likelihood, loss_Ranking, loss_RNN_Prediction\n",
    "from utils_helper import f_get_risk_predictions, _f_get_pred\n",
    "from utils_helper import save_checkpoint, load_checkpoint"
   ]
  },
  {
   "cell_type": "code",
   "execution_count": null,
   "id": "a73272d4",
   "metadata": {},
   "outputs": [],
   "source": []
  },
  {
   "cell_type": "code",
   "execution_count": 3,
   "id": "b52a0d6c",
   "metadata": {
    "ExecuteTime": {
     "end_time": "2023-03-02T01:52:48.981491Z",
     "start_time": "2023-03-02T01:52:48.954519Z"
    },
    "execution": {
     "iopub.execute_input": "2023-03-27T15:37:33.075772Z",
     "iopub.status.busy": "2023-03-27T15:37:33.075402Z",
     "iopub.status.idle": "2023-03-27T15:37:33.122598Z",
     "shell.execute_reply": "2023-03-27T15:37:33.120292Z",
     "shell.execute_reply.started": "2023-03-27T15:37:33.075748Z"
    },
    "tags": []
   },
   "outputs": [],
   "source": [
    "## for reproducibility\n",
    "torch.manual_seed(SEED)\n",
    "torch.backends.cudnn.deterministic = True\n",
    "torch.backends.cudnn.benchmark = False\n",
    "np.random.seed(SEED)"
   ]
  },
  {
   "cell_type": "code",
   "execution_count": 5,
   "id": "3c78ae22",
   "metadata": {
    "ExecuteTime": {
     "end_time": "2023-03-02T16:05:13.877630Z",
     "start_time": "2023-03-02T16:05:13.860010Z"
    },
    "code_folding": [
     0
    ],
    "execution": {
     "iopub.execute_input": "2023-03-27T15:37:33.150877Z",
     "iopub.status.busy": "2023-03-27T15:37:33.150542Z",
     "iopub.status.idle": "2023-03-27T15:37:33.158341Z",
     "shell.execute_reply": "2023-03-27T15:37:33.157675Z",
     "shell.execute_reply.started": "2023-03-27T15:37:33.150833Z"
    },
    "tags": []
   },
   "outputs": [],
   "source": [
    "def model_eval(model, dataloader, device):\n",
    "    model.eval()\n",
    "    total_loss = 0\n",
    "    Loss1, Loss2, Loss3 = 0, 0, 0\n",
    "    \n",
    "    with torch.no_grad():\n",
    "        for i, (b_data, b_data_mi, b_time, b_label, b_mask1, b_mask2, b_mask3) in enumerate(dataloader):\n",
    "            b_data, _, b_time, b_label, b_mask1, b_mask2, b_mask3 = \\\n",
    "                b_data.float(), b_data_mi.float(), b_time.float(), b_label.float(), \\\n",
    "                b_mask1.float(), b_mask2.float(), b_mask3.float()\n",
    "            b_data, b_time, b_label, b_mask1, b_mask2, b_mask3 = \\\n",
    "                b_data.to(device), b_time.to(device), b_label.to(device), \\\n",
    "                b_mask1.to(device), b_mask2.to(device), b_mask3.to(device)\n",
    "\n",
    "            longitudinal_prediction, out = model(b_data)\n",
    "            out = torch.concat([o.unsqueeze(1) for o in out], 1) # (B, num_Event, num_Category)\n",
    "            loss1 = loss_Log_Likelihood(out, b_label, b_mask1, b_mask2)\n",
    "            loss2 = loss_Ranking(out, b_time, b_label, b_mask3, num_Event, num_Category)\n",
    "            loss3 = loss_RNN_Prediction(longitudinal_prediction, b_data)\n",
    "            loss = alpha * loss1 + beta * loss2 + gamma * loss3\n",
    "\n",
    "            total_loss += loss\n",
    "            Loss1 += loss1\n",
    "            Loss2 += loss2\n",
    "            Loss3 += loss3\n",
    "        \n",
    "    return total_loss/len(dataloader), Loss1/len(dataloader), Loss2/len(dataloader), Loss3/len(dataloader)"
   ]
  },
  {
   "cell_type": "markdown",
   "id": "1c3cde6d",
   "metadata": {},
   "source": [
    "### Import Dataset"
   ]
  },
  {
   "cell_type": "code",
   "execution_count": 8,
   "id": "4b1aaac9",
   "metadata": {
    "ExecuteTime": {
     "end_time": "2023-03-01T22:03:18.693003Z",
     "start_time": "2023-03-01T22:03:18.690717Z"
    },
    "execution": {
     "iopub.execute_input": "2023-03-27T15:37:33.277369Z",
     "iopub.status.busy": "2023-03-27T15:37:33.277073Z",
     "iopub.status.idle": "2023-03-27T15:37:33.282193Z",
     "shell.execute_reply": "2023-03-27T15:37:33.281493Z",
     "shell.execute_reply.started": "2023-03-27T15:37:33.277340Z"
    },
    "tags": []
   },
   "outputs": [],
   "source": [
    "import importlib\n",
    "\n",
    "import import_data\n",
    "importlib.reload(import_data)\n",
    "\n",
    "import import_data as impt"
   ]
  },
  {
   "cell_type": "code",
   "execution_count": 9,
   "id": "27145bd1",
   "metadata": {
    "ExecuteTime": {
     "end_time": "2023-03-01T22:03:20.147395Z",
     "start_time": "2023-03-01T22:03:18.694175Z"
    },
    "execution": {
     "iopub.execute_input": "2023-03-27T15:37:33.285677Z",
     "iopub.status.busy": "2023-03-27T15:37:33.285188Z",
     "iopub.status.idle": "2023-03-27T15:37:36.709960Z",
     "shell.execute_reply": "2023-03-27T15:37:36.709291Z",
     "shell.execute_reply.started": "2023-03-27T15:37:33.285651Z"
    },
    "tags": []
   },
   "outputs": [
    {
     "name": "stderr",
     "output_type": "stream",
     "text": [
      "/heinz-georgenas/anaconda3/envs/py39xiaobin/lib/python3.9/site-packages/pycox/preprocessing/label_transforms.py:113: UserWarning: Calling fit method, when 'cuts' are already defined. Leaving cuts unchanged.\n",
      "  warnings.warn(\"Calling fit method, when 'cuts' are already defined. Leaving cuts unchanged.\")\n"
     ]
    },
    {
     "data": {
      "text/plain": [
       "(3, 120, 12)"
      ]
     },
     "execution_count": 9,
     "metadata": {},
     "output_type": "execute_result"
    }
   ],
   "source": [
    "data_mode                   = 'EEG_cr3' \n",
    "data_path                   = '../../eeg/competing-risk/EEG_processed_data_long_by_death_cat_exclude_3.csv'\n",
    "seed                        = SEED\n",
    "\n",
    "##### IMPORT DATASET\n",
    "'''\n",
    "    num_Category            = max event/censoring time * 1.2\n",
    "    num_Event               = number of evetns i.e. len(np.unique(label))-1\n",
    "    max_length              = maximum number of measurements\n",
    "    x_dim                   = data dimension including delta (1 + num_features)\n",
    "    x_dim_cont              = dim of continuous features\n",
    "    x_dim_bin               = dim of binary features\n",
    "    mask1, mask2, mask3     = used for cause-specific network (FCNet structure)\n",
    "'''\n",
    "\n",
    "if data_mode == 'EEG_cr3':\n",
    "    (x_dim, x_dim_cont, x_dim_bin), (data, time, label, time_original, time_to_last), \\\n",
    "        (mask1, mask2, mask3), (data_mi), trans_discrete_time = \\\n",
    "                    impt.import_dataset(data_path)\n",
    "    \n",
    "    # This must be changed depending on the datasets, prediction/evaliation times of interest\n",
    "    pred_time = [6, 12] # prediction time (in hours)\n",
    "    eval_time = [12, 24,] # hours evaluation time (for C-index and Brier-Score)\n",
    "else:\n",
    "    print ('ERROR:  DATA_MODE NOT FOUND !!!')\n",
    "\n",
    "_, num_Event, num_Category  = np.shape(mask1)  # dim of mask3: [subj, Num_Event, Num_Category]\n",
    "max_length                  = np.shape(data)[1]\n",
    "\n",
    "\n",
    "# file_path = '{}_{}'.format(data_mode, seed)\n",
    "\n",
    "# if not os.path.exists(file_path):\n",
    "#     os.makedirs(file_path)\n",
    "    \n",
    "num_Event, num_Category, max_length"
   ]
  },
  {
   "cell_type": "markdown",
   "id": "7db43f53",
   "metadata": {},
   "source": [
    "### Set Hyper-Parameters"
   ]
  },
  {
   "cell_type": "code",
   "execution_count": 10,
   "id": "e4131628-069e-47f4-8ea3-682d5db2baab",
   "metadata": {
    "execution": {
     "iopub.execute_input": "2023-03-27T15:37:36.710944Z",
     "iopub.status.busy": "2023-03-27T15:37:36.710728Z",
     "iopub.status.idle": "2023-03-27T15:37:36.713787Z",
     "shell.execute_reply": "2023-03-27T15:37:36.713248Z",
     "shell.execute_reply.started": "2023-03-27T15:37:36.710923Z"
    },
    "tags": []
   },
   "outputs": [],
   "source": [
    "# ddh_eeg_cr4_1234_alpha1.0_beta1_gamma0.1_BSZ32_Lr0.0005_hiddenRNN64_hiddenFC64_layersRNN2_hiddenAtt2_hiddenCS2_dropout0.3_20230307_0141"
   ]
  },
  {
   "cell_type": "code",
   "execution_count": 11,
   "id": "4a247a42-cf90-4385-9dc6-86833df3b279",
   "metadata": {
    "execution": {
     "iopub.execute_input": "2023-03-27T15:37:36.714782Z",
     "iopub.status.busy": "2023-03-27T15:37:36.714515Z",
     "iopub.status.idle": "2023-03-27T15:37:36.725113Z",
     "shell.execute_reply": "2023-03-27T15:37:36.724483Z",
     "shell.execute_reply.started": "2023-03-27T15:37:36.714760Z"
    },
    "tags": []
   },
   "outputs": [
    {
     "name": "stdout",
     "output_type": "stream",
     "text": [
      "54\n"
     ]
    },
    {
     "data": {
      "text/plain": [
       "[{'beta': 0.5, 'dropout': 0.2, 'gamma': 0.05, 'lr_train': 0.0001},\n",
       " {'beta': 0.5, 'dropout': 0.2, 'gamma': 0.05, 'lr_train': 0.0005},\n",
       " {'beta': 0.5, 'dropout': 0.2, 'gamma': 0.05, 'lr_train': 0.001},\n",
       " {'beta': 0.5, 'dropout': 0.2, 'gamma': 0.1, 'lr_train': 0.0001},\n",
       " {'beta': 0.5, 'dropout': 0.2, 'gamma': 0.1, 'lr_train': 0.0005},\n",
       " {'beta': 0.5, 'dropout': 0.2, 'gamma': 0.1, 'lr_train': 0.001},\n",
       " {'beta': 0.5, 'dropout': 0.2, 'gamma': 0.5, 'lr_train': 0.0001},\n",
       " {'beta': 0.5, 'dropout': 0.2, 'gamma': 0.5, 'lr_train': 0.0005},\n",
       " {'beta': 0.5, 'dropout': 0.2, 'gamma': 0.5, 'lr_train': 0.001},\n",
       " {'beta': 0.5, 'dropout': 0.4, 'gamma': 0.05, 'lr_train': 0.0001},\n",
       " {'beta': 0.5, 'dropout': 0.4, 'gamma': 0.05, 'lr_train': 0.0005},\n",
       " {'beta': 0.5, 'dropout': 0.4, 'gamma': 0.05, 'lr_train': 0.001},\n",
       " {'beta': 0.5, 'dropout': 0.4, 'gamma': 0.1, 'lr_train': 0.0001},\n",
       " {'beta': 0.5, 'dropout': 0.4, 'gamma': 0.1, 'lr_train': 0.0005},\n",
       " {'beta': 0.5, 'dropout': 0.4, 'gamma': 0.1, 'lr_train': 0.001},\n",
       " {'beta': 0.5, 'dropout': 0.4, 'gamma': 0.5, 'lr_train': 0.0001},\n",
       " {'beta': 0.5, 'dropout': 0.4, 'gamma': 0.5, 'lr_train': 0.0005},\n",
       " {'beta': 0.5, 'dropout': 0.4, 'gamma': 0.5, 'lr_train': 0.001},\n",
       " {'beta': 1, 'dropout': 0.2, 'gamma': 0.05, 'lr_train': 0.0001},\n",
       " {'beta': 1, 'dropout': 0.2, 'gamma': 0.05, 'lr_train': 0.0005},\n",
       " {'beta': 1, 'dropout': 0.2, 'gamma': 0.05, 'lr_train': 0.001},\n",
       " {'beta': 1, 'dropout': 0.2, 'gamma': 0.1, 'lr_train': 0.0001},\n",
       " {'beta': 1, 'dropout': 0.2, 'gamma': 0.1, 'lr_train': 0.0005},\n",
       " {'beta': 1, 'dropout': 0.2, 'gamma': 0.1, 'lr_train': 0.001},\n",
       " {'beta': 1, 'dropout': 0.2, 'gamma': 0.5, 'lr_train': 0.0001},\n",
       " {'beta': 1, 'dropout': 0.2, 'gamma': 0.5, 'lr_train': 0.0005},\n",
       " {'beta': 1, 'dropout': 0.2, 'gamma': 0.5, 'lr_train': 0.001},\n",
       " {'beta': 1, 'dropout': 0.4, 'gamma': 0.05, 'lr_train': 0.0001},\n",
       " {'beta': 1, 'dropout': 0.4, 'gamma': 0.05, 'lr_train': 0.0005},\n",
       " {'beta': 1, 'dropout': 0.4, 'gamma': 0.05, 'lr_train': 0.001},\n",
       " {'beta': 1, 'dropout': 0.4, 'gamma': 0.1, 'lr_train': 0.0001},\n",
       " {'beta': 1, 'dropout': 0.4, 'gamma': 0.1, 'lr_train': 0.0005},\n",
       " {'beta': 1, 'dropout': 0.4, 'gamma': 0.1, 'lr_train': 0.001},\n",
       " {'beta': 1, 'dropout': 0.4, 'gamma': 0.5, 'lr_train': 0.0001},\n",
       " {'beta': 1, 'dropout': 0.4, 'gamma': 0.5, 'lr_train': 0.0005},\n",
       " {'beta': 1, 'dropout': 0.4, 'gamma': 0.5, 'lr_train': 0.001},\n",
       " {'beta': 5, 'dropout': 0.2, 'gamma': 0.05, 'lr_train': 0.0001},\n",
       " {'beta': 5, 'dropout': 0.2, 'gamma': 0.05, 'lr_train': 0.0005},\n",
       " {'beta': 5, 'dropout': 0.2, 'gamma': 0.05, 'lr_train': 0.001},\n",
       " {'beta': 5, 'dropout': 0.2, 'gamma': 0.1, 'lr_train': 0.0001},\n",
       " {'beta': 5, 'dropout': 0.2, 'gamma': 0.1, 'lr_train': 0.0005},\n",
       " {'beta': 5, 'dropout': 0.2, 'gamma': 0.1, 'lr_train': 0.001},\n",
       " {'beta': 5, 'dropout': 0.2, 'gamma': 0.5, 'lr_train': 0.0001},\n",
       " {'beta': 5, 'dropout': 0.2, 'gamma': 0.5, 'lr_train': 0.0005},\n",
       " {'beta': 5, 'dropout': 0.2, 'gamma': 0.5, 'lr_train': 0.001},\n",
       " {'beta': 5, 'dropout': 0.4, 'gamma': 0.05, 'lr_train': 0.0001},\n",
       " {'beta': 5, 'dropout': 0.4, 'gamma': 0.05, 'lr_train': 0.0005},\n",
       " {'beta': 5, 'dropout': 0.4, 'gamma': 0.05, 'lr_train': 0.001},\n",
       " {'beta': 5, 'dropout': 0.4, 'gamma': 0.1, 'lr_train': 0.0001},\n",
       " {'beta': 5, 'dropout': 0.4, 'gamma': 0.1, 'lr_train': 0.0005},\n",
       " {'beta': 5, 'dropout': 0.4, 'gamma': 0.1, 'lr_train': 0.001},\n",
       " {'beta': 5, 'dropout': 0.4, 'gamma': 0.5, 'lr_train': 0.0001},\n",
       " {'beta': 5, 'dropout': 0.4, 'gamma': 0.5, 'lr_train': 0.0005},\n",
       " {'beta': 5, 'dropout': 0.4, 'gamma': 0.5, 'lr_train': 0.001}]"
      ]
     },
     "execution_count": 11,
     "metadata": {},
     "output_type": "execute_result"
    }
   ],
   "source": [
    "from sklearn.model_selection import ParameterGrid\n",
    "model_name = 'ddrsa_eeg_cr3'\n",
    "param_grid = {'dropout': [0.2, 0.4], \n",
    "              'lr_train': [1e-4, 5e-4, 1e-3],\n",
    "              'beta': [0.5, 1, 5],\n",
    "              'gamma': [0.05, 0.1, 0.5],\n",
    "             }\n",
    "param_grid_list = list(ParameterGrid(param_grid))\n",
    "print(len(param_grid_list))\n",
    "param_grid_list"
   ]
  },
  {
   "cell_type": "code",
   "execution_count": 12,
   "id": "3e7374c9",
   "metadata": {
    "ExecuteTime": {
     "end_time": "2023-03-03T18:15:31.543716Z",
     "start_time": "2023-03-03T18:15:31.531758Z"
    },
    "execution": {
     "iopub.execute_input": "2023-03-27T15:37:36.726038Z",
     "iopub.status.busy": "2023-03-27T15:37:36.725797Z",
     "iopub.status.idle": "2023-03-27T15:37:36.807830Z",
     "shell.execute_reply": "2023-03-27T15:37:36.807025Z",
     "shell.execute_reply.started": "2023-03-27T15:37:36.726018Z"
    },
    "tags": []
   },
   "outputs": [
    {
     "name": "stdout",
     "output_type": "stream",
     "text": [
      "cuda\n"
     ]
    }
   ],
   "source": [
    "boost_mode = 'ON' #{'ON', 'OFF'}\n",
    "\n",
    "param = {'batch_size': 32,\n",
    "\n",
    "         'num_epoch_burn_in': 20,\n",
    "         'num_epoch': 100,\n",
    "\n",
    "         'dropout': 0.2, # 1 - keep_prob\n",
    "         'lr_train': 1e-4,\n",
    "\n",
    "         'hidden_rnn': 64,\n",
    "         'hidden_dim_FC': 64,\n",
    "         'layers_rnn': 2,\n",
    "         'hidden_att': 2,\n",
    "         'hidden_cs' : 2,\n",
    "\n",
    "         'alpha' :1.0,\n",
    "         'beta'  :1,\n",
    "         'gamma' :0.1\n",
    "        }\n",
    "\n",
    "\n",
    "batch_size = param['batch_size']\n",
    "num_epoch  = param['num_epoch']\n",
    "\n",
    "dropout    = param['dropout']\n",
    "lr_train   = param['lr_train']\n",
    "\n",
    "hidden_rnn = param['hidden_rnn']\n",
    "hidden_dim_FC = param['hidden_dim_FC']\n",
    "layers_rnn = param['layers_rnn']\n",
    "hidden_att = param['hidden_att']\n",
    "hidden_cs = param['hidden_cs']\n",
    "\n",
    "alpha      = param['alpha']\n",
    "beta       = param['beta']\n",
    "gamma      = param['gamma']\n",
    "\n",
    "device     = torch.device('cuda' if torch.cuda.is_available() else 'cpu')\n",
    "print(device)"
   ]
  },
  {
   "cell_type": "markdown",
   "id": "6fcd4023",
   "metadata": {},
   "source": [
    "### Split Dataset into Train/Valid/Test Sets"
   ]
  },
  {
   "cell_type": "code",
   "execution_count": 13,
   "id": "921e51ec-7024-491c-ba4f-509158b16410",
   "metadata": {
    "execution": {
     "iopub.execute_input": "2023-03-27T15:37:36.808733Z",
     "iopub.status.busy": "2023-03-27T15:37:36.808494Z",
     "iopub.status.idle": "2023-03-27T15:37:36.989794Z",
     "shell.execute_reply": "2023-03-27T15:37:36.989085Z",
     "shell.execute_reply.started": "2023-03-27T15:37:36.808708Z"
    },
    "tags": []
   },
   "outputs": [],
   "source": [
    "### TRAINING-TESTING SPLIT\n",
    "(tr_data,te_data, tr_data_mi, te_data_mi, tr_time,te_time, tr_label,te_label, tr_time_orinal,te_time_original,\n",
    " tr_time_to_last,te_time_to_last,\n",
    " tr_mask1,te_mask1, tr_mask2,te_mask2, tr_mask3,te_mask3) = \\\n",
    "        train_test_split(data, data_mi, time, label, time_original, time_to_last,\n",
    "                         mask1, mask2, mask3, test_size=0.2, stratify=label, random_state=seed) \n",
    "\n",
    "(tr_data,va_data, tr_data_mi, va_data_mi, tr_time,va_time, tr_label,va_label, tr_time_orinal,va_time_original,\n",
    " tr_time_to_last, va_time_to_last,\n",
    " tr_mask1,va_mask1, tr_mask2,va_mask2, tr_mask3,va_mask3) = \\\n",
    "        train_test_split(tr_data, tr_data_mi, tr_time, tr_label, tr_time_orinal, tr_time_to_last,\n",
    "                         tr_mask1, tr_mask2, tr_mask3, test_size=0.2, stratify=tr_label, random_state=seed) \n",
    "\n",
    "if boost_mode == 'ON':\n",
    "    tr_data, tr_data_mi, tr_time, tr_label, tr_mask1, tr_mask2, tr_mask3 = \\\n",
    "            f_get_boosted_trainset(tr_data, tr_data_mi, tr_time, tr_label, tr_mask1, tr_mask2, tr_mask3)"
   ]
  },
  {
   "cell_type": "code",
   "execution_count": 14,
   "id": "c5f0e890-c606-4dce-b842-4a0961cb0b82",
   "metadata": {
    "execution": {
     "iopub.execute_input": "2023-03-27T15:37:36.990829Z",
     "iopub.status.busy": "2023-03-27T15:37:36.990551Z",
     "iopub.status.idle": "2023-03-27T15:37:36.995290Z",
     "shell.execute_reply": "2023-03-27T15:37:36.994661Z",
     "shell.execute_reply.started": "2023-03-27T15:37:36.990793Z"
    },
    "tags": []
   },
   "outputs": [
    {
     "data": {
      "text/plain": [
       "array([[ 1.        , 70.35817989, 77.31567078, ...,  1.        ,\n",
       "         0.        ,  0.        ],\n",
       "       [ 1.        , 85.97480151, 85.26077385, ...,  1.        ,\n",
       "         0.        ,  0.        ],\n",
       "       [ 1.        , 74.4407046 , 82.44836305, ...,  1.        ,\n",
       "         0.        ,  0.        ],\n",
       "       ...,\n",
       "       [ 0.        ,  0.        ,  0.        , ...,  0.        ,\n",
       "         0.        ,  0.        ],\n",
       "       [ 0.        ,  0.        ,  0.        , ...,  0.        ,\n",
       "         0.        ,  0.        ],\n",
       "       [ 0.        ,  0.        ,  0.        , ...,  0.        ,\n",
       "         0.        ,  0.        ]])"
      ]
     },
     "execution_count": 14,
     "metadata": {},
     "output_type": "execute_result"
    }
   ],
   "source": [
    "tr_data[50]"
   ]
  },
  {
   "cell_type": "code",
   "execution_count": 15,
   "id": "59d4a356",
   "metadata": {
    "ExecuteTime": {
     "end_time": "2023-03-02T18:48:32.164878Z",
     "start_time": "2023-03-02T18:48:32.127125Z"
    },
    "execution": {
     "iopub.execute_input": "2023-03-27T15:37:36.996220Z",
     "iopub.status.busy": "2023-03-27T15:37:36.995977Z",
     "iopub.status.idle": "2023-03-27T15:37:37.007667Z",
     "shell.execute_reply": "2023-03-27T15:37:37.007086Z",
     "shell.execute_reply.started": "2023-03-27T15:37:36.996199Z"
    },
    "tags": []
   },
   "outputs": [],
   "source": [
    "tr_loader = DataLoader(list(zip(tr_data, tr_data_mi, tr_time, tr_label, tr_mask1, tr_mask2, tr_mask3)), \n",
    "                       batch_size=batch_size, shuffle=True)\n",
    "\n",
    "va_loader = DataLoader(list(zip(va_data, va_data_mi, va_time, va_label, va_mask1, va_mask2, va_mask3)), \n",
    "                       batch_size=batch_size, shuffle=False)\n",
    "\n",
    "te_loader = DataLoader(list(zip(te_data, te_data_mi, te_time, te_label, te_mask1, te_mask2, te_mask3)), \n",
    "                       batch_size=batch_size, shuffle=False)"
   ]
  },
  {
   "cell_type": "markdown",
   "id": "7ae8fb46",
   "metadata": {},
   "source": [
    "### Train the Network"
   ]
  },
  {
   "cell_type": "markdown",
   "id": "bc506fb7",
   "metadata": {},
   "source": [
    "This implementation does not consider missing values."
   ]
  },
  {
   "cell_type": "code",
   "execution_count": 16,
   "id": "eca59f31",
   "metadata": {
    "ExecuteTime": {
     "end_time": "2023-03-02T18:48:33.776186Z",
     "start_time": "2023-03-02T18:48:33.758229Z"
    },
    "code_folding": [],
    "execution": {
     "iopub.execute_input": "2023-03-27T15:37:37.008641Z",
     "iopub.status.busy": "2023-03-27T15:37:37.008179Z",
     "iopub.status.idle": "2023-03-27T15:37:37.015665Z",
     "shell.execute_reply": "2023-03-27T15:37:37.015110Z",
     "shell.execute_reply.started": "2023-03-27T15:37:37.008621Z"
    },
    "tags": []
   },
   "outputs": [
    {
     "data": {
      "text/plain": [
       "3"
      ]
     },
     "execution_count": 16,
     "metadata": {},
     "output_type": "execute_result"
    }
   ],
   "source": [
    "num_Event"
   ]
  },
  {
   "cell_type": "code",
   "execution_count": 17,
   "id": "7b569492",
   "metadata": {
    "ExecuteTime": {
     "end_time": "2023-03-02T18:48:34.563926Z",
     "start_time": "2023-03-02T18:48:34.556940Z"
    },
    "execution": {
     "iopub.execute_input": "2023-03-27T15:37:37.016552Z",
     "iopub.status.busy": "2023-03-27T15:37:37.016311Z",
     "iopub.status.idle": "2023-03-27T15:37:37.019010Z",
     "shell.execute_reply": "2023-03-27T15:37:37.018517Z",
     "shell.execute_reply.started": "2023-03-27T15:37:37.016532Z"
    },
    "tags": []
   },
   "outputs": [],
   "source": [
    "pred_time = [6, 12]\n",
    "eval_time = [24, 48, 72]"
   ]
  },
  {
   "cell_type": "code",
   "execution_count": null,
   "id": "e27eaad8",
   "metadata": {
    "ExecuteTime": {
     "end_time": "2023-03-02T18:51:05.274402Z",
     "start_time": "2023-03-02T18:48:35.328469Z"
    },
    "code_folding": [
     34
    ],
    "execution": {
     "iopub.execute_input": "2023-03-27T15:37:37.020008Z",
     "iopub.status.busy": "2023-03-27T15:37:37.019763Z"
    },
    "scrolled": true,
    "tags": []
   },
   "outputs": [
    {
     "name": "stderr",
     "output_type": "stream",
     "text": [
      "  0%|                                                                | 0/52 [00:00<?, ?it/s]"
     ]
    },
    {
     "name": "stdout",
     "output_type": "stream",
     "text": [
      "================================================================================ \n",
      " {'beta': 0.5, 'dropout': 0.2, 'gamma': 0.05, 'lr_train': 0.001}\n",
      "updated.... average c-index = 0.6010\n",
      "epoch 1, tr_loss: 26.7280, va_loss: 35.3778, va c-index: 0.6010\n",
      "updated.... average c-index = 0.6107\n",
      "epoch 2, tr_loss: 24.9008, va_loss: 35.4974, va c-index: 0.6107\n",
      "Counter 1 of 10\n",
      "epoch 3, tr_loss: 24.5915, va_loss: 35.2764, va c-index: 0.5594\n",
      "Counter 2 of 10\n",
      "epoch 4, tr_loss: 24.1867, va_loss: 35.8731, va c-index: 0.5579\n",
      "Counter 3 of 10\n",
      "epoch 5, tr_loss: 24.5262, va_loss: 36.2500, va c-index: 0.5904\n",
      "Counter 4 of 10\n",
      "epoch 6, tr_loss: 25.9468, va_loss: 35.3984, va c-index: 0.5872\n",
      "updated.... average c-index = 0.6207\n",
      "epoch 7, tr_loss: 24.5841, va_loss: 35.0238, va c-index: 0.6207\n",
      "Counter 1 of 10\n",
      "epoch 8, tr_loss: 24.5827, va_loss: 35.7382, va c-index: 0.5923\n",
      "Counter 2 of 10\n",
      "epoch 9, tr_loss: 22.7727, va_loss: 36.8780, va c-index: 0.5886\n",
      "Counter 3 of 10\n",
      "epoch 10, tr_loss: 23.7698, va_loss: 36.4176, va c-index: 0.6024\n",
      "Counter 4 of 10\n",
      "epoch 11, tr_loss: 26.5165, va_loss: 37.6422, va c-index: 0.6117\n",
      "Counter 5 of 10\n",
      "epoch 12, tr_loss: 23.4653, va_loss: 39.7639, va c-index: 0.6025\n",
      "Counter 6 of 10\n",
      "epoch 13, tr_loss: 23.1041, va_loss: 37.4067, va c-index: 0.6121\n",
      "Counter 7 of 10\n",
      "epoch 14, tr_loss: 23.4577, va_loss: 38.6012, va c-index: 0.6168\n",
      "Counter 8 of 10\n",
      "epoch 15, tr_loss: 23.0432, va_loss: 36.6600, va c-index: 0.6187\n",
      "updated.... average c-index = 0.6291\n",
      "epoch 16, tr_loss: 25.7059, va_loss: 34.0929, va c-index: 0.6291\n",
      "Counter 1 of 10\n",
      "epoch 17, tr_loss: 24.3156, va_loss: 40.2949, va c-index: 0.6083\n",
      "Counter 2 of 10\n",
      "epoch 18, tr_loss: 21.9514, va_loss: 35.8835, va c-index: 0.6251\n",
      "Counter 3 of 10\n",
      "epoch 19, tr_loss: 21.5776, va_loss: 39.3516, va c-index: 0.6159\n",
      "Counter 4 of 10\n",
      "epoch 20, tr_loss: 21.5384, va_loss: 37.0601, va c-index: 0.6183\n",
      "Counter 5 of 10\n",
      "epoch 21, tr_loss: 22.2668, va_loss: 38.2081, va c-index: 0.6220\n",
      "Counter 6 of 10\n",
      "epoch 22, tr_loss: 22.0107, va_loss: 38.4971, va c-index: 0.6151\n",
      "Counter 7 of 10\n",
      "epoch 23, tr_loss: 21.4165, va_loss: 38.5945, va c-index: 0.6288\n",
      "updated.... average c-index = 0.6325\n",
      "epoch 24, tr_loss: 21.1656, va_loss: 36.5395, va c-index: 0.6325\n",
      "updated.... average c-index = 0.6356\n",
      "epoch 25, tr_loss: 23.4636, va_loss: 36.9117, va c-index: 0.6356\n",
      "updated.... average c-index = 0.6398\n",
      "epoch 26, tr_loss: 23.2083, va_loss: 39.3522, va c-index: 0.6398\n",
      "Counter 1 of 10\n",
      "epoch 27, tr_loss: 23.3223, va_loss: 37.1791, va c-index: 0.6388\n",
      "Counter 2 of 10\n",
      "epoch 28, tr_loss: 22.3701, va_loss: 38.8486, va c-index: 0.6227\n",
      "Counter 3 of 10\n",
      "epoch 29, tr_loss: 22.1393, va_loss: 36.0231, va c-index: 0.6254\n",
      "Counter 4 of 10\n",
      "epoch 30, tr_loss: 24.2016, va_loss: 36.0634, va c-index: 0.6348\n"
     ]
    }
   ],
   "source": [
    "\n",
    "Best_C_Index = 0\n",
    "\n",
    "if not os.path.exists(f\"checkpoints/{model_name}\"):\n",
    "    os.makedirs(f\"checkpoints/{model_name}\")\n",
    "\n",
    "\n",
    "for params in tqdm(param_grid_list[2:]):\n",
    "    dropout = params['dropout']\n",
    "    lr_train = params['lr_train']\n",
    "    beta = params['beta']\n",
    "    gamma = params['gamma']\n",
    "    print('='*80, '\\n', params)\n",
    "\n",
    "    model = \\\n",
    "        DDRSA(input_dim  = x_dim,\n",
    "              output_dim = num_Category,\n",
    "              layers_rnn = param['layers_rnn'],\n",
    "              hidden_rnn = param['hidden_rnn'],\n",
    "              long_param = {'layers': 2*[param['hidden_dim_FC']], 'dropout': dropout}, \n",
    "              att_param  = {'layers': param['hidden_att']*[param['hidden_dim_FC']], 'dropout': dropout}, \n",
    "              cs_param   = {'layers': param['hidden_cs']*[param['hidden_dim_FC']], 'dropout': dropout},\n",
    "              risks      = num_Event\n",
    "             )\n",
    "    optimizer_burn_in = torch.optim.Adam(model.parameters(), lr = lr_train)\n",
    "    optimizer = torch.optim.Adam(model.parameters(), lr = lr_train)\n",
    "\n",
    "\n",
    "    model.train()\n",
    "    model.to(device)\n",
    "\n",
    "    min_valid = 0.1\n",
    "    early_stop_patience = 10\n",
    "    ep = 0 # for tracking early stopping\n",
    "\n",
    "    experiment_runtime = datetime.datetime.now().strftime('%Y%m%d_%H%M')\n",
    "    tensorboard_string_extension = f\"{model_name}_{SEED}\"\n",
    "    tensorboard_string_extension += f\"_alpha{alpha}_beta{beta}_gamma{gamma}_BSZ{batch_size}_Lr{lr_train}\"\n",
    "    tensorboard_string_extension += f\"_hiddenRNN{hidden_rnn}_hiddenFC{hidden_dim_FC}\"\n",
    "    tensorboard_string_extension += f\"_layersRNN{layers_rnn}_hiddenAtt{hidden_att}_hiddenCS{hidden_cs}\"\n",
    "    tensorboard_string_extension += f\"_dropout{dropout}\"\n",
    "    tensorboard_string_extension += \"_\" + experiment_runtime\n",
    "    tensorboard_filename = tensorboard_string_extension\n",
    "    writer = SummaryWriter(f\"runs/{model_name}/{tensorboard_filename}\")\n",
    "\n",
    "\n",
    "    for epoch in range(param['num_epoch_burn_in']):\n",
    "        model.train()\n",
    "        for i, (b_data, b_data_mi, b_time, b_label, b_mask1, b_mask2, b_mask3) in enumerate(tr_loader):\n",
    "            b_data, _, b_time, b_label, b_mask1, b_mask2, b_mask3 = \\\n",
    "                b_data.float(), b_data_mi.float(), b_time.float(), b_label.float(), \\\n",
    "                b_mask1.float(), b_mask2.float(), b_mask3.float()\n",
    "            b_data, b_time, b_label, b_mask1, b_mask2, b_mask3 = \\\n",
    "                b_data.to(device), b_time.to(device), b_label.to(device), \\\n",
    "                b_mask1.to(device), b_mask2.to(device), b_mask3.to(device)\n",
    "\n",
    "            longitudinal_prediction, out = model(b_data)\n",
    "            out = torch.concat([o.unsqueeze(1) for o in out], 1) # (B, num_Event, num_Category)\n",
    "\n",
    "            # loss1 = loss_Log_Likelihood(out, b_label, b_mask1, b_mask2)\n",
    "            # loss2 = loss_Ranking(out, b_time, b_label, b_mask3, num_Event, num_Category)\n",
    "            loss3 = loss_RNN_Prediction(longitudinal_prediction, b_data)\n",
    "            tr_loss = loss3\n",
    "\n",
    "            optimizer_burn_in.zero_grad()\n",
    "            tr_loss.backward()\n",
    "            optimizer_burn_in.step()\n",
    "\n",
    "\n",
    "    for epoch in range(num_epoch):\n",
    "        model.train()\n",
    "        for i, (b_data, b_data_mi, b_time, b_label, b_mask1, b_mask2, b_mask3) in enumerate(tr_loader):\n",
    "            b_data, _, b_time, b_label, b_mask1, b_mask2, b_mask3 = \\\n",
    "                b_data.float(), b_data_mi.float(), b_time.float(), b_label.float(), \\\n",
    "                b_mask1.float(), b_mask2.float(), b_mask3.float()\n",
    "            b_data, b_time, b_label, b_mask1, b_mask2, b_mask3 = \\\n",
    "                b_data.to(device), b_time.to(device), b_label.to(device), \\\n",
    "                b_mask1.to(device), b_mask2.to(device), b_mask3.to(device)\n",
    "\n",
    "            longitudinal_prediction, out = model(b_data)\n",
    "            out = torch.concat([o.unsqueeze(1) for o in out], 1) # (B, num_Event, num_Category)\n",
    "\n",
    "            loss1 = loss_Log_Likelihood(out, b_label, b_mask1, b_mask2)\n",
    "            loss2 = loss_Ranking(out, b_time, b_label, b_mask3, num_Event, num_Category)\n",
    "            loss3 = loss_RNN_Prediction(longitudinal_prediction, b_data)\n",
    "            tr_loss = alpha * loss1 + beta * loss2 + gamma * loss3\n",
    "\n",
    "            optimizer.zero_grad()\n",
    "            tr_loss.backward()\n",
    "            optimizer.step()\n",
    "\n",
    "        model.eval()\n",
    "        tr_loss, tr_loss1, tr_loss2, tr_loss3 = model_eval(model, tr_loader, device)\n",
    "        va_loss, va_loss1, va_loss2, va_loss3 = model_eval(model, va_loader, device)\n",
    "\n",
    "        ### VALIDATION  (based on average C-index of our interest)\n",
    "        risk_all = f_get_risk_predictions(model, va_data, pred_time, eval_time, device)\n",
    "\n",
    "        for p, p_time in enumerate(pred_time):\n",
    "            pred_horizon = int(p_time)\n",
    "            val_result1 = np.zeros([num_Event, len(eval_time)])\n",
    "\n",
    "            for t, t_time in enumerate(eval_time):                \n",
    "                eval_horizon = int(t_time) + pred_horizon\n",
    "                for k in range(num_Event):\n",
    "                    val_result1[k, t] = c_index(risk_all[k][:, p, t], va_time, (va_label[:,0] == k+1).astype(int), eval_horizon) #-1 for no event (not comparable)\n",
    "\n",
    "            if p == 0:\n",
    "                val_final1 = val_result1\n",
    "            else:\n",
    "                val_final1 = np.append(val_final1, val_result1, axis=0)\n",
    "\n",
    "        tmp_valid = np.mean(val_final1)\n",
    "\n",
    "        if tmp_valid >  min_valid:\n",
    "            ep = 0\n",
    "            min_valid = tmp_valid\n",
    "            save_checkpoint(f\"checkpoints_ddrsa/{model_name}/{writer.get_logdir().split('/')[-1]}_{SEED}.pt\", model, optimizer, va_loss)\n",
    "            print( 'updated.... average c-index = ' + str('%.4f' %(tmp_valid)))\n",
    "        else:\n",
    "            ep += 1  \n",
    "            print(\"Counter {} of {}\".format(ep, early_stop_patience))\n",
    "\n",
    "        if ep >= early_stop_patience:\n",
    "            print(\"Early stopping with best_cindex: {:.4f}\".format(min_valid), \n",
    "                  \"and val_cindex for this epoch: {:.4f}\".format(tmp_valid))\n",
    "            break\n",
    "\n",
    "        # Tensorboard\n",
    "        writer.add_scalar(\"Loss-Training/Loss\", tr_loss, epoch)\n",
    "        writer.add_scalar(\"Loss-Training/NLL Loss\", tr_loss1, epoch)\n",
    "        writer.add_scalar(\"Loss-Training/Ranking Loss\", tr_loss2, epoch)\n",
    "        writer.add_scalar(\"Loss-Training/LSTM MSELoss\", tr_loss3, epoch)\n",
    "\n",
    "        writer.add_scalar(\"Loss-Validation/Loss\", va_loss, epoch)\n",
    "        writer.add_scalar(\"Loss-Validation/NLL Loss\", va_loss1, epoch)\n",
    "        writer.add_scalar(\"Loss-Validation/Ranking Loss\", va_loss2, epoch)\n",
    "        writer.add_scalar(\"Loss-Validation/LSTM MSELoss\", va_loss3, epoch)\n",
    "\n",
    "        writer.add_scalar(\"C-index/Validation Avg C-index\", min_valid, epoch)\n",
    "\n",
    "        print('epoch {}, tr_loss: {:.4f}, va_loss: {:.4f}, va c-index: {:.4f}'.\\\n",
    "                      format(epoch+1, tr_loss, va_loss, tmp_valid))\n",
    "        \n",
    "    if min_valid > Best_C_Index:\n",
    "        Best_C_Index = min_valid\n",
    "        print('Better valudation c-index!!!')\n",
    "        print(writer.get_logdir().split('/')[-1])"
   ]
  },
  {
   "cell_type": "code",
   "execution_count": 36,
   "id": "6bb8353e",
   "metadata": {
    "ExecuteTime": {
     "end_time": "2023-03-03T17:10:16.781613Z",
     "start_time": "2023-03-03T17:10:16.767118Z"
    },
    "execution": {
     "iopub.execute_input": "2023-03-14T15:03:19.022121Z",
     "iopub.status.busy": "2023-03-14T15:03:19.021310Z",
     "iopub.status.idle": "2023-03-14T15:03:19.030824Z",
     "shell.execute_reply": "2023-03-14T15:03:19.029667Z",
     "shell.execute_reply.started": "2023-03-14T15:03:19.022045Z"
    },
    "scrolled": true,
    "tags": []
   },
   "outputs": [
    {
     "data": {
      "text/plain": [
       "DDRSA(\n",
       "  (embedding): LSTM(116, 64, bias=False, batch_first=True)\n",
       "  (longitudinal): Sequential(\n",
       "    (0): Dropout(p=0.2, inplace=False)\n",
       "    (1): Linear(in_features=64, out_features=64, bias=True)\n",
       "    (2): ReLU()\n",
       "    (3): Linear(in_features=64, out_features=64, bias=True)\n",
       "    (4): ReLU()\n",
       "    (5): Linear(in_features=64, out_features=116, bias=True)\n",
       "  )\n",
       "  (attention): Sequential(\n",
       "    (0): Dropout(p=0.2, inplace=False)\n",
       "    (1): Linear(in_features=180, out_features=64, bias=True)\n",
       "    (2): ReLU()\n",
       "    (3): Linear(in_features=64, out_features=1, bias=True)\n",
       "  )\n",
       "  (attention_soft): Softmax(dim=1)\n",
       "  (cause_specific_rnn): ModuleList(\n",
       "    (0): LSTMCell(180, 180, bias=False)\n",
       "    (1): LSTMCell(180, 180, bias=False)\n",
       "    (2): LSTMCell(180, 180, bias=False)\n",
       "  )\n",
       "  (cause_specific): ModuleList(\n",
       "    (0): Sequential(\n",
       "      (0): Dropout(p=0.2, inplace=False)\n",
       "      (1): Linear(in_features=180, out_features=64, bias=True)\n",
       "      (2): ReLU()\n",
       "      (3): Linear(in_features=64, out_features=64, bias=True)\n",
       "      (4): ReLU()\n",
       "      (5): Linear(in_features=64, out_features=1, bias=True)\n",
       "    )\n",
       "    (1): Sequential(\n",
       "      (0): Dropout(p=0.2, inplace=False)\n",
       "      (1): Linear(in_features=180, out_features=64, bias=True)\n",
       "      (2): ReLU()\n",
       "      (3): Linear(in_features=64, out_features=64, bias=True)\n",
       "      (4): ReLU()\n",
       "      (5): Linear(in_features=64, out_features=1, bias=True)\n",
       "    )\n",
       "    (2): Sequential(\n",
       "      (0): Dropout(p=0.2, inplace=False)\n",
       "      (1): Linear(in_features=180, out_features=64, bias=True)\n",
       "      (2): ReLU()\n",
       "      (3): Linear(in_features=64, out_features=64, bias=True)\n",
       "      (4): ReLU()\n",
       "      (5): Linear(in_features=64, out_features=1, bias=True)\n",
       "    )\n",
       "  )\n",
       "  (sigmoid): Sigmoid()\n",
       "  (soft): Softmax(dim=-1)\n",
       ")"
      ]
     },
     "execution_count": 36,
     "metadata": {},
     "output_type": "execute_result"
    }
   ],
   "source": [
    "model"
   ]
  },
  {
   "cell_type": "markdown",
   "id": "183aba61",
   "metadata": {},
   "source": [
    "### Test the Trained Network"
   ]
  }
 ],
 "metadata": {
  "kernelspec": {
   "display_name": "Python 3 (ipykernel)",
   "language": "python",
   "name": "python3"
  },
  "language_info": {
   "codemirror_mode": {
    "name": "ipython",
    "version": 3
   },
   "file_extension": ".py",
   "mimetype": "text/x-python",
   "name": "python",
   "nbconvert_exporter": "python",
   "pygments_lexer": "ipython3",
   "version": "3.9.7"
  },
  "toc": {
   "base_numbering": 1,
   "nav_menu": {},
   "number_sections": true,
   "sideBar": true,
   "skip_h1_title": false,
   "title_cell": "Table of Contents",
   "title_sidebar": "Contents",
   "toc_cell": false,
   "toc_position": {
    "height": "calc(100% - 180px)",
    "left": "10px",
    "top": "150px",
    "width": "349.091px"
   },
   "toc_section_display": true,
   "toc_window_display": true
  }
 },
 "nbformat": 4,
 "nbformat_minor": 5
}
